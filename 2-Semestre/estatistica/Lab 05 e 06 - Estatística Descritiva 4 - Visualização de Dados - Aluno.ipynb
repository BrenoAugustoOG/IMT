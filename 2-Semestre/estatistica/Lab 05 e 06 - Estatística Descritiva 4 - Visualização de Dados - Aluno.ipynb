{
 "cells": [
  {
   "cell_type": "markdown",
   "metadata": {},
   "source": [
    "# **TTI109 - Estatística**\n",
    "# **Laboratório 05 - Estatística Descritiva 4**\n",
    "# **Visualização de Dados**\n",
    "\n",
    "Nessa aula vamos aprender a construir:\n",
    "\n",
    "- Histograma\n",
    "   - Frequência Absoluta\n",
    "   - Frequência Relativa\n",
    "- Polígono de Frequência\n",
    "   - Frequência Absoluta\n",
    "   - Frequência Relativa\n",
    "- Ogiva ou Frequência Acumulada\n",
    "- Pareto\n",
    "- Setorial (circular) ou Pizza\n",
    "- Dados Emparelhados\n",
    "   - Dispersão\n",
    "   - Séries Temporais\n",
    "- Boxplot"
   ]
  },
  {
   "cell_type": "markdown",
   "metadata": {},
   "source": [
    "# **Exercício: Análise de Vendas em uma Loja de Eletrônicos**\n",
    "\n",
    "Uma loja de eletrônicos acompanhou suas vendas diárias ao longo de 30 dias. Além disso, a loja registrou o número de produtos vendidos por categoria (TVs, laptops, celulares, tablets) e os preços correspondentes. O objetivo é utilizar esses dados para criar diversos gráficos que permitam uma análise completa das vendas.\n",
    "\n",
    "### **Dados Fornecidos**\n",
    "\n",
    "**Vendas Diárias (número de unidades vendidas por dia durante 30 dias):**\n",
    "\n",
    "```\n",
    "[12, 15, 14, 10, 12, 16, 18, 17, 14, 19, 20, 22, 21, 15, 14, 13, 16, 15, 12, 10, 9, 11, 13, 17, 18, 19, 20, 21, 22, 23]\n",
    "```\n",
    "\n",
    "**Vendas por Categoria (número de unidades vendidas e preços por categoria):**\n",
    "\n",
    "- TVs: 60 unidades, preço médio (em Reais) 2.000,00\n",
    "- Laptops: 80 unidades, preço médio (em Reais) 3.500,00\n",
    "- Celulares: 200 unidades, preço médio (em Reais) 1.200,00\n",
    "- Tablets: 50 unidades, preço médio (em Reais) 1.800,00\n",
    "- Datas de Vendas (para séries temporais): Dias 1 a 30 do mês\n",
    "\n",
    "**Contrua os Gráficos:**\n",
    "\n",
    "- **Histograma**\n",
    "  - **Frequência:** Distribua as vendas diárias em intervalos (por exemplo, 5 intervalos) e crie um histograma para mostrar a frequência das vendas.\n",
    "  - **Frequência Relativa:** Construa o mesmo histograma, mas com a frequência relativa (proporção das vendas).\n",
    "- **Polígono de Frequência**\n",
    "  - **Frequência:** Construa um polígono de frequência conectando os pontos médios das barras do histograma de frequência.\n",
    "  - **Frequência Relativa:** Construa um polígono de frequência relativo conectando os pontos médios das barras do histograma de frequência relativa.\n",
    "- **Ogiva ou Frequência Acumulada**\n",
    "  - Construa uma ogiva utilizando as vendas diárias para mostrar a frequência acumulada.\n",
    "- **Gráfico de Pareto**\n",
    "  - Com base nas vendas por categoria, crie um gráfico de Pareto mostrando as unidades vendidas por categoria em ordem decrescente e a linha de frequência acumulada.\n",
    "- **Gráfico Setorial (Pizza)**\n",
    "  - Construa um gráfico de pizza para mostrar a participação de cada categoria no total de unidades vendidas.\n",
    "- **Dados Emparelhados**\n",
    "  - **Dispersão:** Relacione o número de unidades vendidas com o preço médio dos produtos e construa um gráfico de dispersão.\n",
    "  - **Séries Temporais:** Construa um gráfico de linhas para mostrar as vendas ao longo dos 30 dias.\n",
    "- **Boxplot**\n",
    "  - Construa um boxplot das vendas diárias para analisar a distribuição, mediana e possíveis outliers."
   ]
  },
  {
   "cell_type": "markdown",
   "metadata": {},
   "source": [
    "### **Criação dos DafaFrames com os dados fornecidos**"
   ]
  },
  {
   "cell_type": "code",
   "execution_count": 1,
   "metadata": {},
   "outputs": [
    {
     "data": {
      "text/html": [
       "<div>\n",
       "<style scoped>\n",
       "    .dataframe tbody tr th:only-of-type {\n",
       "        vertical-align: middle;\n",
       "    }\n",
       "\n",
       "    .dataframe tbody tr th {\n",
       "        vertical-align: top;\n",
       "    }\n",
       "\n",
       "    .dataframe thead th {\n",
       "        text-align: right;\n",
       "    }\n",
       "</style>\n",
       "<table border=\"1\" class=\"dataframe\">\n",
       "  <thead>\n",
       "    <tr style=\"text-align: right;\">\n",
       "      <th></th>\n",
       "      <th>Vendas Diárias</th>\n",
       "    </tr>\n",
       "  </thead>\n",
       "  <tbody>\n",
       "    <tr>\n",
       "      <th>0</th>\n",
       "      <td>12</td>\n",
       "    </tr>\n",
       "    <tr>\n",
       "      <th>1</th>\n",
       "      <td>15</td>\n",
       "    </tr>\n",
       "    <tr>\n",
       "      <th>2</th>\n",
       "      <td>14</td>\n",
       "    </tr>\n",
       "    <tr>\n",
       "      <th>3</th>\n",
       "      <td>10</td>\n",
       "    </tr>\n",
       "    <tr>\n",
       "      <th>4</th>\n",
       "      <td>12</td>\n",
       "    </tr>\n",
       "    <tr>\n",
       "      <th>5</th>\n",
       "      <td>16</td>\n",
       "    </tr>\n",
       "    <tr>\n",
       "      <th>6</th>\n",
       "      <td>18</td>\n",
       "    </tr>\n",
       "    <tr>\n",
       "      <th>7</th>\n",
       "      <td>17</td>\n",
       "    </tr>\n",
       "    <tr>\n",
       "      <th>8</th>\n",
       "      <td>14</td>\n",
       "    </tr>\n",
       "    <tr>\n",
       "      <th>9</th>\n",
       "      <td>19</td>\n",
       "    </tr>\n",
       "    <tr>\n",
       "      <th>10</th>\n",
       "      <td>20</td>\n",
       "    </tr>\n",
       "    <tr>\n",
       "      <th>11</th>\n",
       "      <td>22</td>\n",
       "    </tr>\n",
       "    <tr>\n",
       "      <th>12</th>\n",
       "      <td>21</td>\n",
       "    </tr>\n",
       "    <tr>\n",
       "      <th>13</th>\n",
       "      <td>15</td>\n",
       "    </tr>\n",
       "    <tr>\n",
       "      <th>14</th>\n",
       "      <td>14</td>\n",
       "    </tr>\n",
       "    <tr>\n",
       "      <th>15</th>\n",
       "      <td>13</td>\n",
       "    </tr>\n",
       "    <tr>\n",
       "      <th>16</th>\n",
       "      <td>16</td>\n",
       "    </tr>\n",
       "    <tr>\n",
       "      <th>17</th>\n",
       "      <td>15</td>\n",
       "    </tr>\n",
       "    <tr>\n",
       "      <th>18</th>\n",
       "      <td>12</td>\n",
       "    </tr>\n",
       "    <tr>\n",
       "      <th>19</th>\n",
       "      <td>10</td>\n",
       "    </tr>\n",
       "    <tr>\n",
       "      <th>20</th>\n",
       "      <td>9</td>\n",
       "    </tr>\n",
       "    <tr>\n",
       "      <th>21</th>\n",
       "      <td>11</td>\n",
       "    </tr>\n",
       "    <tr>\n",
       "      <th>22</th>\n",
       "      <td>13</td>\n",
       "    </tr>\n",
       "    <tr>\n",
       "      <th>23</th>\n",
       "      <td>17</td>\n",
       "    </tr>\n",
       "    <tr>\n",
       "      <th>24</th>\n",
       "      <td>18</td>\n",
       "    </tr>\n",
       "    <tr>\n",
       "      <th>25</th>\n",
       "      <td>19</td>\n",
       "    </tr>\n",
       "    <tr>\n",
       "      <th>26</th>\n",
       "      <td>20</td>\n",
       "    </tr>\n",
       "    <tr>\n",
       "      <th>27</th>\n",
       "      <td>21</td>\n",
       "    </tr>\n",
       "    <tr>\n",
       "      <th>28</th>\n",
       "      <td>22</td>\n",
       "    </tr>\n",
       "    <tr>\n",
       "      <th>29</th>\n",
       "      <td>23</td>\n",
       "    </tr>\n",
       "  </tbody>\n",
       "</table>\n",
       "</div>"
      ],
      "text/plain": [
       "    Vendas Diárias\n",
       "0               12\n",
       "1               15\n",
       "2               14\n",
       "3               10\n",
       "4               12\n",
       "5               16\n",
       "6               18\n",
       "7               17\n",
       "8               14\n",
       "9               19\n",
       "10              20\n",
       "11              22\n",
       "12              21\n",
       "13              15\n",
       "14              14\n",
       "15              13\n",
       "16              16\n",
       "17              15\n",
       "18              12\n",
       "19              10\n",
       "20               9\n",
       "21              11\n",
       "22              13\n",
       "23              17\n",
       "24              18\n",
       "25              19\n",
       "26              20\n",
       "27              21\n",
       "28              22\n",
       "29              23"
      ]
     },
     "metadata": {},
     "output_type": "display_data"
    },
    {
     "data": {
      "text/html": [
       "<div>\n",
       "<style scoped>\n",
       "    .dataframe tbody tr th:only-of-type {\n",
       "        vertical-align: middle;\n",
       "    }\n",
       "\n",
       "    .dataframe tbody tr th {\n",
       "        vertical-align: top;\n",
       "    }\n",
       "\n",
       "    .dataframe thead th {\n",
       "        text-align: right;\n",
       "    }\n",
       "</style>\n",
       "<table border=\"1\" class=\"dataframe\">\n",
       "  <thead>\n",
       "    <tr style=\"text-align: right;\">\n",
       "      <th></th>\n",
       "      <th>Categoria</th>\n",
       "      <th>Unidades vendidas</th>\n",
       "      <th>Preço Médio (R$)</th>\n",
       "    </tr>\n",
       "  </thead>\n",
       "  <tbody>\n",
       "    <tr>\n",
       "      <th>0</th>\n",
       "      <td>TVs</td>\n",
       "      <td>60</td>\n",
       "      <td>2000</td>\n",
       "    </tr>\n",
       "    <tr>\n",
       "      <th>1</th>\n",
       "      <td>Laptops</td>\n",
       "      <td>80</td>\n",
       "      <td>3500</td>\n",
       "    </tr>\n",
       "    <tr>\n",
       "      <th>2</th>\n",
       "      <td>Celulares</td>\n",
       "      <td>200</td>\n",
       "      <td>1200</td>\n",
       "    </tr>\n",
       "    <tr>\n",
       "      <th>3</th>\n",
       "      <td>Tablets</td>\n",
       "      <td>50</td>\n",
       "      <td>1800</td>\n",
       "    </tr>\n",
       "  </tbody>\n",
       "</table>\n",
       "</div>"
      ],
      "text/plain": [
       "   Categoria  Unidades vendidas  Preço Médio (R$)\n",
       "0        TVs                 60              2000\n",
       "1    Laptops                 80              3500\n",
       "2  Celulares                200              1200\n",
       "3    Tablets                 50              1800"
      ]
     },
     "metadata": {},
     "output_type": "display_data"
    },
    {
     "name": "stdout",
     "output_type": "stream",
     "text": [
      "       Vendas Diárias\n",
      "count       30.000000\n",
      "mean        15.933333\n",
      "std          3.973475\n",
      "min          9.000000\n",
      "25%         13.000000\n",
      "50%         15.500000\n",
      "75%         19.000000\n",
      "max         23.000000\n"
     ]
    }
   ],
   "source": [
    "# Criação dos DafaFrames com os dados fornecidos\n",
    "import pandas as pd\n",
    "import numpy as np\n",
    "import matplotlib.pyplot as plt\n",
    "from scipy.stats import cumfreq\n",
    "\n",
    "vendas_diarias = [12, 15, 14, 10, 12, 16, 18, 17, 14, 19, 20, 22, 21, 15, 14, 13, 16, 15, 12, 10, 9, 11, 13, 17, 18, 19, 20, 21, 22, 23]\n",
    "vendas = pd.DataFrame({\n",
    "    'Vendas diárias': vendas_diarias\n",
    "})\n",
    "\n",
    "categorias = ['TVs', 'Laptops', 'Celulares', 'Tablets']\n",
    "unidades_vendidas = [60,80,200,50]\n",
    "precos_medios = [2000,3500,1200,1800]\n",
    "\n",
    "vendas_categoria = pd.DataFrame({\n",
    "    'Categoria': categorias,\n",
    "    'Unidades vendidas': unidades_vendidas,\n",
    "    'Preço Médio (R$)': precos_medios\n",
    "})\n",
    "\n",
    "display(vendas)\n",
    "display(vendas_categoria)\n",
    "\n",
    "print(vendas.describe())"
   ]
  },
  {
   "cell_type": "markdown",
   "metadata": {},
   "source": [
    "### **Criando a tabela de frequências**"
   ]
  },
  {
   "cell_type": "code",
   "execution_count": 17,
   "metadata": {},
   "outputs": [
    {
     "data": {
      "text/html": [
       "<div>\n",
       "<style scoped>\n",
       "    .dataframe tbody tr th:only-of-type {\n",
       "        vertical-align: middle;\n",
       "    }\n",
       "\n",
       "    .dataframe tbody tr th {\n",
       "        vertical-align: top;\n",
       "    }\n",
       "\n",
       "    .dataframe thead th {\n",
       "        text-align: right;\n",
       "    }\n",
       "</style>\n",
       "<table border=\"1\" class=\"dataframe\">\n",
       "  <thead>\n",
       "    <tr style=\"text-align: right;\">\n",
       "      <th></th>\n",
       "      <th>Classe</th>\n",
       "      <th>Frequência</th>\n",
       "      <th>Pontos médios</th>\n",
       "      <th>Frequência Relativa</th>\n",
       "      <th>Frequência Acumulada</th>\n",
       "    </tr>\n",
       "  </thead>\n",
       "  <tbody>\n",
       "    <tr>\n",
       "      <th>0</th>\n",
       "      <td>0</td>\n",
       "      <td>4</td>\n",
       "      <td>10.5</td>\n",
       "      <td>0.133333</td>\n",
       "      <td>4</td>\n",
       "    </tr>\n",
       "    <tr>\n",
       "      <th>1</th>\n",
       "      <td>1</td>\n",
       "      <td>8</td>\n",
       "      <td>13.5</td>\n",
       "      <td>0.266667</td>\n",
       "      <td>12</td>\n",
       "    </tr>\n",
       "    <tr>\n",
       "      <th>2</th>\n",
       "      <td>2</td>\n",
       "      <td>7</td>\n",
       "      <td>16.5</td>\n",
       "      <td>0.233333</td>\n",
       "      <td>19</td>\n",
       "    </tr>\n",
       "    <tr>\n",
       "      <th>3</th>\n",
       "      <td>3</td>\n",
       "      <td>6</td>\n",
       "      <td>19.5</td>\n",
       "      <td>0.200000</td>\n",
       "      <td>25</td>\n",
       "    </tr>\n",
       "    <tr>\n",
       "      <th>4</th>\n",
       "      <td>4</td>\n",
       "      <td>5</td>\n",
       "      <td>22.5</td>\n",
       "      <td>0.166667</td>\n",
       "      <td>30</td>\n",
       "    </tr>\n",
       "  </tbody>\n",
       "</table>\n",
       "</div>"
      ],
      "text/plain": [
       "   Classe  Frequência  Pontos médios  Frequência Relativa  \\\n",
       "0       0           4           10.5             0.133333   \n",
       "1       1           8           13.5             0.266667   \n",
       "2       2           7           16.5             0.233333   \n",
       "3       3           6           19.5             0.200000   \n",
       "4       4           5           22.5             0.166667   \n",
       "\n",
       "   Frequência Acumulada  \n",
       "0                     4  \n",
       "1                    12  \n",
       "2                    19  \n",
       "3                    25  \n",
       "4                    30  "
      ]
     },
     "metadata": {},
     "output_type": "display_data"
    }
   ],
   "source": [
    "n_classes = 5\n",
    "\n",
    "v_max = vendas['Vendas diárias'].max()\n",
    "v_min = vendas['Vendas diárias'].min()\n",
    "\n",
    "amplitude = round((v_max - v_min)/ n_classes)\n",
    "\n",
    "classes = np.arange(v_min, v_max + 2, amplitude)\n",
    "\n",
    "tabela_frequencias = vendas['Vendas diárias'].value_counts(bins = n_classes).sort_index()\n",
    "tabela_frequencias = tabela_frequencias.reset_index()\n",
    "tabela_frequencias.columns = ['Classe', 'Frequência']\n",
    "\n",
    "tabela_frequencias['Classe'] = tabela_frequencias['Frequência'].index\n",
    "tabela_frequencias['Pontos médios'] = (classes[:-1] + classes[1:]) / 2\n",
    "tabela_frequencias['Frequência relativa'] = tabela_frequencias['Frequência'].values/len(vendas['Vendas Diárias'])\n",
    "tabela_frequencias['Frequência acumulada'] = tabela_frequencias['Frequência'].values.cumsum()\n",
    "\n",
    "display(tabela_frequencias)"
   ]
  },
  {
   "cell_type": "markdown",
   "metadata": {},
   "source": [
    "### **1 - Histograma  Frequência**"
   ]
  },
  {
   "cell_type": "code",
   "execution_count": 19,
   "metadata": {},
   "outputs": [
    {
     "data": {
      "image/png": "[encoded data removed]",
      "text/plain": [
       "<Figure size 600x500 with 1 Axes>"
      ]
     },
     "metadata": {},
     "output_type": "display_data"
    }
   ],
   "source": [
    "# 1. Histograma - Frequência\n",
    "import matplotlib.pyplot as plt\n",
    "\n",
    "plt.figure(figsize=(6, 5))\n",
    "plt.hist(x=tabela_frequencias['Pontos médios'], bins=classes, weights=tabela_frequencias['Frequência'], edgecolor='black')\n",
    "plt.title('Histograma - Distribuição de frequências das vendas')\n",
    "plt.xlabel('Unidades vendidas')\n",
    "plt.ylabel('Frequência')\n",
    "plt.xticks(np.concatenate([classes, tabela_frequencias['Pontos médios']]), rotation=45)\n",
    "plt.show()"
   ]
  },
  {
   "cell_type": "markdown",
   "metadata": {},
   "source": [
    "### **2. Histograma - Frequência Relativa**"
   ]
  },
  {
   "cell_type": "code",
   "execution_count": null,
   "metadata": {},
   "outputs": [],
   "source": [
    "# 2. Histograma - Frequência Relativa\n",
    "import matplotlib.pyplot as plt\n",
    "\n",
    "plt.figure(figsize=(6, 5))\n",
    "plt.hist(x=tabela_frequencias['Pontos médios'], bins=classes, weights=tabela_frequencias['Frequência'], edgecolor='black')\n",
    "plt.title('Histograma - Distribuição de frequências das vendas')\n",
    "plt.xlabel('Unidades vendidas')\n",
    "plt.ylabel('Frequência')\n",
    "plt.xticks(np.concatenate([classes, tabela_frequencias['Pontos médios']]), rotation=45)\n",
    "plt.show()"
   ]
  },
  {
   "cell_type": "markdown",
   "metadata": {},
   "source": [
    "### **3. Polígono de Frequência - Frequência**"
   ]
  },
  {
   "cell_type": "code",
   "execution_count": 20,
   "metadata": {},
   "outputs": [
    {
     "name": "stdout",
     "output_type": "stream",
     "text": [
      "Ponto médio fictício à esquerda = 7.5\n",
      "Ponto médio fictício à direita = 25.5\n"
     ]
    },
    {
     "data": {
      "image/png": "[encoded data removed]",
      "text/plain": [
       "<Figure size 600x500 with 1 Axes>"
      ]
     },
     "metadata": {},
     "output_type": "display_data"
    }
   ],
   "source": [
    "# 3. Polígono de Frequência - Frequência\n",
    "fic_esq = [tabela_frequencias['Pontos médios'].iloc[0] - amplitude]\n",
    "print(f'Ponto médio fictício à esquerda = {fic_esq[0]}')\n",
    "fic_dir = [tabela_frequencias['Pontos médios'].iloc[-1] + amplitude]\n",
    "print(f'Ponto médio fictício à direita = {fic_dir[0]}')\n",
    "\n",
    "x_data = np.concatenate([fic_esq, tabela_frequencias['Pontos médios'], fic_dir])\n",
    "y_data = np.concatenate([[0], tabela_frequencias['Frequência'], [0]])\n",
    "\n",
    "plt.figure(figsize=(6,5))\n",
    "plt.plot(x_data,y_data,marker='o')\n",
    "plt.title('Polígono de Frequência -  Distribuição de frequências das vendas')\n",
    "plt.xlabel('Unidades vendidas')\n",
    "plt.ylabel('Frequência')\n",
    "\n",
    "plt.show()"
   ]
  },
  {
   "cell_type": "markdown",
   "metadata": {},
   "source": [
    "### **4. Polígono de Frequência - Frequência Relativa**"
   ]
  },
  {
   "cell_type": "code",
   "execution_count": null,
   "metadata": {},
   "outputs": [],
   "source": [
    "# 4. Polígono de Frequência - Frequência Relativa\n",
    "y_data = np.concatenate([[0], tabela_frequencias['Frequência relativa'], [0]])\n",
    "\n",
    "plt.figure(figsize=(6,5))\n",
    "plt.plot(x_data,y_data,marker='o')\n",
    "plt.title('Polígono de Frequência -  Distribuição de frequências relativas das vendas')\n",
    "plt.xlabel('Unidades vendidas')\n",
    "plt.ylabel('Frequência relativa')\n",
    "\n",
    "plt.show()"
   ]
  },
  {
   "cell_type": "markdown",
   "metadata": {},
   "source": [
    "### **5. Ogiva (Frequência Acumulada)**"
   ]
  },
  {
   "cell_type": "code",
   "execution_count": 16,
   "metadata": {},
   "outputs": [
    {
     "ename": "NameError",
     "evalue": "name 'Classes' is not defined",
     "output_type": "error",
     "traceback": [
      "\u001b[1;31m---------------------------------------------------------------------------\u001b[0m",
      "\u001b[1;31mNameError\u001b[0m                                 Traceback (most recent call last)",
      "Cell \u001b[1;32mIn[16], line 2\u001b[0m\n\u001b[0;32m      1\u001b[0m \u001b[38;5;66;03m# 5. Ogiva (Frequência Acumulada)\u001b[39;00m\n\u001b[1;32m----> 2\u001b[0m ini_ogiva \u001b[38;5;241m=\u001b[39m [\u001b[43mClasses\u001b[49m[\u001b[38;5;241m1\u001b[39m]\u001b[38;5;241m-\u001b[39mamplitude]\n\u001b[0;32m      4\u001b[0m x_data \u001b[38;5;241m=\u001b[39m ini_ogiva \u001b[38;5;241m+\u001b[39m [limite \u001b[38;5;28;01mfor\u001b[39;00m limite \u001b[38;5;129;01min\u001b[39;00m classes[\u001b[38;5;241m1\u001b[39m:]]\n\u001b[0;32m      5\u001b[0m y_data \u001b[38;5;241m=\u001b[39m np\u001b[38;5;241m.\u001b[39mconcatenate([[\u001b[38;5;241m0\u001b[39m], tabela_frequencias[\u001b[38;5;124m'\u001b[39m\u001b[38;5;124mFrequência acumulada\u001b[39m\u001b[38;5;124m'\u001b[39m]])\n",
      "\u001b[1;31mNameError\u001b[0m: name 'Classes' is not defined"
     ]
    }
   ],
   "source": [
    "# 5. Ogiva (Frequência Acumulada)\n",
    "ini_ogiva = [classes[1]-amplitude]\n",
    "\n",
    "x_data = ini_ogiva + [limite for limite in classes[1:]]\n",
    "y_data = np.concatenate([[0], tabela_frequencias['Frequência acumulada']])\n",
    "\n",
    "plt.plot(x_data, y_data, marker='o')\n",
    "\n",
    "plt.title('Ogiva - Frequência Acumulada das Vendas')\n",
    "plt.xlabel('Unidades vendidas')\n",
    "plt.ylabel('Frequência acumulada')\n",
    "\n",
    "plt.xticks(x_data)\n",
    "\n",
    "plt.show()"
   ]
  },
  {
   "cell_type": "markdown",
   "metadata": {},
   "source": [
    "### **6. Gráfico de Pareto**"
   ]
  },
  {
   "cell_type": "code",
   "execution_count": 14,
   "metadata": {},
   "outputs": [
    {
     "data": {
      "image/png": "[encoded data removed]",
      "text/plain": [
       "<Figure size 600x500 with 2 Axes>"
      ]
     },
     "metadata": {},
     "output_type": "display_data"
    }
   ],
   "source": [
    "# 6. Gráfico de Pareto\n",
    "decrescente_vendas_categoria = vendas_categoria.sort_values(by='Unidades vendidas', ascending=False)\n",
    "decrescente_vendas_categoria['Frequência acumulada'] = decrescente_vendas_categoria['Unidades vendidas'].cumsum()\n",
    "\n",
    "fig, ax= plt.subplots(figsize=(6,5))\n",
    "\n",
    "ax.bar(decrescente_vendas_categoria['Categoria'], decrescente_vendas_categoria['Unidades vendidas'])\n",
    "\n",
    "ax2 = ax.twinx()\n",
    "\n",
    "ax2.plot(decrescente_vendas_categoria['Categoria'], decrescente_vendas_categoria['Frequência acumulada'], color='r', marker='o', label='Frequência acumulada')\n",
    "\n",
    "ax.set_title('Gráfico de Pareto')\n",
    "ax.set_xlabel('Categorias')\n",
    "ax.set_title('Unidades Vendidas')\n",
    "ax.set_title('Frequência Acumulada')\n",
    "\n",
    "plt.show()"
   ]
  },
  {
   "cell_type": "markdown",
   "metadata": {},
   "source": [
    "### **7. Gráfico Setorial (Pizza)**"
   ]
  },
  {
   "cell_type": "code",
   "execution_count": 13,
   "metadata": {},
   "outputs": [
    {
     "data": {
      "image/png": "[encoded data removed]",
      "text/plain": [
       "<Figure size 500x500 with 1 Axes>"
      ]
     },
     "metadata": {},
     "output_type": "display_data"
    }
   ],
   "source": [
    "# 7. Gráfico Setorial (Pizza)\n",
    "plt.figure(figsize=(5,5))\n",
    "plt.pie(vendas_categoria['Unidades vendidas'], labels=vendas_categoria['Categoria'], autopct='%1.1f%%')\n",
    "\n",
    "plt.title('Gráfico de Pizza')\n",
    "plt.show()"
   ]
  },
  {
   "cell_type": "markdown",
   "metadata": {},
   "source": [
    "### **8. Dados Emparelhados - Dispersão**"
   ]
  },
  {
   "cell_type": "code",
   "execution_count": null,
   "metadata": {},
   "outputs": [],
   "source": [
    "# 8. Dados Emparelhados - Dispersão\n"
   ]
  },
  {
   "cell_type": "markdown",
   "metadata": {},
   "source": [
    "### **9. Dados Emparelhados - Séries Temporais**"
   ]
  },
  {
   "cell_type": "code",
   "execution_count": null,
   "metadata": {},
   "outputs": [],
   "source": [
    "# 9. Dados Emparelhados - Séries Temporais\n"
   ]
  },
  {
   "cell_type": "markdown",
   "metadata": {},
   "source": [
    "### **10. Boxplot**"
   ]
  },
  {
   "cell_type": "code",
   "execution_count": 19,
   "metadata": {},
   "outputs": [
    {
     "name": "stdout",
     "output_type": "stream",
     "text": [
      "       Vendas Diárias\n",
      "count       30.000000\n",
      "mean        15.933333\n",
      "std          3.973475\n",
      "min          9.000000\n",
      "25%         13.000000\n",
      "50%         15.500000\n",
      "75%         19.000000\n",
      "max         23.000000\n"
     ]
    },
    {
     "data": {
      "image/png": "[encoded data removed]",
      "text/plain": [
       "<Figure size 600x300 with 1 Axes>"
      ]
     },
     "metadata": {},
     "output_type": "display_data"
    }
   ],
   "source": [
    "# 10. Boxplot\n",
    "print(vendas.describe())\n",
    "\n",
    "vendas.boxplot(column=['Vendas Diárias'], color='blue',vert=False, showmeans=True, figsize=(6,3))\n",
    "\n",
    "plt.title('Boxplot - Vendas diárias')\n",
    "plt.ylabel('Unidades vendidas')\n",
    "plt.suptitle('')\n",
    "\n",
    "plt.show()"
   ]
  },
  {
   "cell_type": "markdown",
   "metadata": {},
   "source": [
    "# **EXTRA: Análise dos quartis de um painel de dados**\n",
    "\n",
    "Um diagrama boxplot (ou caixa-e-bigode) é uma ferramenta de análise exploratória que destaca características importantes de um conjunto de dados.\n",
    "Os dados utilizados no exercício anterior de uma Loja de Eletrônicos são simples, pois o intuitofoi deé aprender a utilizara ferramenta Python.\n",
    " Para expandir o uso de boxplots, vamos importar um grande conjunto de dados levantados a partir das gorjetas dadas por clientes de um restaurante.\n",
    "\n",
    "O conjunto de dados possui os seguintes parâmetros:\n",
    "- **valor_total:** valor total gasto no restaurante\n",
    "- **gorjeta:** valor da gorjeta\n",
    "- **sexo:** como o cliente pagante se identificou\n",
    "- **fumante:** cliente fumante ou não\n",
    "- **dia:** dia do atendimento\n",
    "- **hora:** horário do atendimento\n",
    "- **tamanho:** número de pessoas à mesa."
   ]
  },
  {
   "cell_type": "code",
   "execution_count": null,
   "metadata": {},
   "outputs": [],
   "source": [
    "import numpy as np \n",
    "import matplotlib.pyplot as plt \n",
    "\n",
    "# Importação do conjunto de dados\n",
    "gorjetas = pd.read_csv(\"gorjetas.csv\")\n",
    "print('5 primeiras linhas do conjunto de dados:')\n",
    "display(gorjetas.head())\n",
    "\n",
    "# Determinação dos quartis\n",
    "quartis = gorjetas.quantile([0.25, 0.5, 0.75], axis=0,\n",
    "                            interpolation='linear', numeric_only=True)\n",
    "print('Tabela com os quartis para cada coluna numérica:')\n",
    "display(quartis)\n",
    "\n",
    "# Percentis customizados\n",
    "percentis = gorjetas.quantile([0.1, 0.3, 0.8], axis=0,\n",
    "                              interpolation='linear', numeric_only=True)\n",
    "print('Tabela com percentis customizados:')\n",
    "display(percentis)\n",
    "\n",
    "# Análise exploratória inicial\n",
    "print('Análise exploraória:')\n",
    "gorjetas.describe()"
   ]
  },
  {
   "cell_type": "markdown",
   "metadata": {},
   "source": [
    "### Boxplot - Painéis de dados\n",
    "\n",
    "O uso do método boxplot() tem seu total potencial realizado quando os dados são um DataFrame.\n",
    "\n",
    "Vamos checar a distribuição do valor das contas por dia de funcionamento do restaurante."
   ]
  },
  {
   "cell_type": "code",
   "execution_count": null,
   "metadata": {},
   "outputs": [],
   "source": [
    "gorjetas.boxplot(by='dia', column=['valor_total'], color='red', showmeans=True, figsize=(6, 5))\n",
    "\n",
    "# Título\n",
    "plt.title('Distribuição do valor das contas')\n",
    "plt.ylabel('Valor')\n",
    "plt.suptitle('')\n",
    "\n",
    "# Mostra o gráfico\n",
    "plt.show()"
   ]
  },
  {
   "cell_type": "markdown",
   "metadata": {},
   "source": [
    "### Agora, vamos examinar a distribuição das gorjetas por dia de funcionamento do restaurante"
   ]
  },
  {
   "cell_type": "code",
   "execution_count": null,
   "metadata": {},
   "outputs": [],
   "source": [
    "gorjetas.boxplot(by='dia', column=['gorjeta'], color='red', showmeans=True, figsize=(6, 5))\n",
    "\n",
    "# Título\n",
    "plt.title('Distribuição do valor das gosjetas')\n",
    "plt.ylabel('Valor')\n",
    "plt.suptitle('')\n",
    "\n",
    "# Mostra o gráfico\n",
    "plt.show()"
   ]
  },
  {
   "cell_type": "markdown",
   "metadata": {},
   "source": [
    "### Distribuição das gorjetas agrupada por período de funcionamento"
   ]
  },
  {
   "cell_type": "code",
   "execution_count": null,
   "metadata": {},
   "outputs": [],
   "source": [
    "gorjetas.boxplot(by='hora', column=['gorjeta'], color='red', showmeans=True, figsize=(6, 5))\n",
    "\n",
    "# Título\n",
    "plt.title('Distribuição do valor das gosjetas')\n",
    "plt.ylabel('Valor')\n",
    "plt.suptitle('')\n",
    "\n",
    "# Mostra o gráfico\n",
    "plt.show()"
   ]
  },
  {
   "cell_type": "markdown",
   "metadata": {},
   "source": [
    "### Também é possível agrupar a distribuição de gorjetas usando dois ou mais fatores.\n",
    "\n",
    "Aqui, vamos agrupar por dia de funcionamento e como o cliente pagante se identificou"
   ]
  },
  {
   "cell_type": "code",
   "execution_count": null,
   "metadata": {},
   "outputs": [],
   "source": [
    "gorjetas.boxplot(by=['dia', 'sexo'], column=['gorjeta'], color='red', showmeans=True, figsize=(12, 5))\n",
    "\n",
    "# Título\n",
    "plt.title('Distribuição do valor das gosjetas')\n",
    "plt.ylabel('Valor')\n",
    "plt.suptitle('')\n",
    "\n",
    "# Rotacionar os textos do eixo x em 45 graus\n",
    "plt.xticks(rotation=45)\n",
    "\n",
    "# Mostra o gráfico\n",
    "plt.show()"
   ]
  }
 ],
 "metadata": {
  "colab": {
   "collapsed_sections": [],
   "name": "TTI109_Aula_04_Versão_Professor.ipynb",
   "provenance": [],
   "toc_visible": true
  },
  "kernelspec": {
   "display_name": "Python 3 (ipykernel)",
   "language": "python",
   "name": "python3"
  },
  "language_info": {
   "codemirror_mode": {
    "name": "ipython",
    "version": 3
   },
   "file_extension": ".py",
   "mimetype": "text/x-python",
   "name": "python",
   "nbconvert_exporter": "python",
   "pygments_lexer": "ipython3",
   "version": "3.12.3"
  }
 },
 "nbformat": 4,
 "nbformat_minor": 4
}
