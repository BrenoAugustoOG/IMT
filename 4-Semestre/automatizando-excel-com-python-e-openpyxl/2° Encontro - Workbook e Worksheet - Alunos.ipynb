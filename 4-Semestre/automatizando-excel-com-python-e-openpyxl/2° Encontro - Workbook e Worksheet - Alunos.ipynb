{
  "cells": [
    {
      "cell_type": "markdown",
      "metadata": {
        "id": "Wt2UIRfNmnxl"
      },
      "source": [
        "# **CM2121 - Automatizando o Excel com Python e OpenPyXL**\n",
        "# **Prof. Dr. Vitor Alex Oliveira Alves**\n",
        "# **2° Encontro - Workbook e Worksheet**"
      ]
    },
    {
      "cell_type": "markdown",
      "metadata": {
        "id": "TJAMyRPi81a5"
      },
      "source": [
        "## 1. Criação de um *Workbook*"
      ]
    },
    {
      "cell_type": "code",
      "execution_count": null,
      "metadata": {},
      "outputs": [],
      "source": [
        "# Criando uma nova planilha do zero\n",
        "from openpyxl import Workbook\n",
        "\n",
        "wb = Workbook()\n",
        "ws = wb.active"
      ]
    },
    {
      "cell_type": "code",
      "execution_count": null,
      "metadata": {},
      "outputs": [
        {
          "data": {
            "text/plain": [
              "'Minha planilha'"
            ]
          },
          "execution_count": 12,
          "metadata": {},
          "output_type": "execute_result"
        }
      ],
      "source": [
        "# Renomear a planilha ativa\n",
        "ws.title = \"Minha planilha\"\n",
        "ws.title "
      ]
    },
    {
      "cell_type": "code",
      "execution_count": null,
      "metadata": {},
      "outputs": [],
      "source": [
        "# Criar uma nova planilha\n",
        "new_ws = wb.create_sheet(title=\"Teste\", index=0)"
      ]
    },
    {
      "cell_type": "code",
      "execution_count": null,
      "metadata": {},
      "outputs": [
        {
          "data": {
            "text/plain": [
              "['Teste', 'Minha planilha']"
            ]
          },
          "execution_count": 14,
          "metadata": {},
          "output_type": "execute_result"
        }
      ],
      "source": [
        "# Ver o nome das planilhas\n",
        "wb.sheetnames"
      ]
    },
    {
      "cell_type": "code",
      "execution_count": null,
      "metadata": {},
      "outputs": [
        {
          "name": "stdout",
          "output_type": "stream",
          "text": [
            "Teste\n",
            "Minha planilha\n"
          ]
        }
      ],
      "source": [
        "# Listar o nome das planilhas\n",
        "for planilha in wb.sheetnames:\n",
        "    print(planilha)"
      ]
    },
    {
      "cell_type": "code",
      "execution_count": 17,
      "metadata": {},
      "outputs": [],
      "source": [
        "# Cores no formato RGB hexadecimal (de 0 até F)\n",
        "ws.sheet_properties.tabColor = \"1072BA\"\n",
        "new_ws.sheet_properties.tabColor = \"1134FC\""
      ]
    },
    {
      "cell_type": "code",
      "execution_count": null,
      "metadata": {},
      "outputs": [],
      "source": [
        "# Salvar o arquivo\n",
        "wb.save('Teste_aula02.xlsx')"
      ]
    },
    {
      "cell_type": "markdown",
      "metadata": {
        "id": "Y5Ih1XFmGNjw"
      },
      "source": [
        "## 2. Preenchendo dados na planilha"
      ]
    },
    {
      "cell_type": "code",
      "execution_count": null,
      "metadata": {},
      "outputs": [],
      "source": [
        "# Abrir uma planilha existente\n",
        "from openpyxl import load_workbook\n",
        "wb = load_workbook('Teste_aula02.xlsx')"
      ]
    },
    {
      "cell_type": "code",
      "execution_count": null,
      "metadata": {},
      "outputs": [
        {
          "data": {
            "text/plain": [
              "<Worksheet \"Teste\">"
            ]
          },
          "execution_count": 4,
          "metadata": {},
          "output_type": "execute_result"
        }
      ],
      "source": [
        "# Ver a planilha ativa\n",
        "wb.active"
      ]
    },
    {
      "cell_type": "code",
      "execution_count": null,
      "metadata": {},
      "outputs": [
        {
          "data": {
            "text/plain": [
              "<Worksheet \"Minha planilha\">"
            ]
          },
          "execution_count": 6,
          "metadata": {},
          "output_type": "execute_result"
        }
      ],
      "source": [
        "# Mudar a planilha ativa\n",
        "wb.active = wb['Minha planilha']\n",
        "wb.active"
      ]
    },
    {
      "cell_type": "code",
      "execution_count": 8,
      "metadata": {},
      "outputs": [
        {
          "data": {
            "text/plain": [
              "<Worksheet \"Teste\">"
            ]
          },
          "execution_count": 8,
          "metadata": {},
          "output_type": "execute_result"
        }
      ],
      "source": [
        "# Criar uma vaiável para a planilha ativa\n",
        "teste = wb['Teste']\n",
        "teste"
      ]
    },
    {
      "cell_type": "code",
      "execution_count": 9,
      "metadata": {},
      "outputs": [
        {
          "data": {
            "text/plain": [
              "<Cell 'Teste'.B2>"
            ]
          },
          "execution_count": 9,
          "metadata": {},
          "output_type": "execute_result"
        }
      ],
      "source": [
        "# Escrevendo em células específicas\n",
        "teste['A1'] = \"TESTE\"\n",
        "teste.cell(row=2, column=2, value=1000)"
      ]
    },
    {
      "cell_type": "code",
      "execution_count": 10,
      "metadata": {},
      "outputs": [],
      "source": [
        "# Preenchendo uma região retangular da planilha\n",
        "for x in range (3,20):\n",
        "    for y in range (1,10):\n",
        "        teste.cell(row=x, column=y, value=x+y)"
      ]
    },
    {
      "cell_type": "code",
      "execution_count": 11,
      "metadata": {},
      "outputs": [],
      "source": [
        "wb.save('Teste_aula02.xlsx')"
      ]
    },
    {
      "cell_type": "code",
      "execution_count": null,
      "metadata": {},
      "outputs": [
        {
          "data": {
            "text/plain": [
              "[['CÓDIGO', 'DESCRIÇÃO', 'VALOR'],\n",
              " ['001', 'MATERIAL DE LIMPEZA', 1000],\n",
              " ['002', 'MATERIAL DE CONSUMO', 2000],\n",
              " ['003', 'MATERIAL PRIMA', 5000]]"
            ]
          },
          "execution_count": 12,
          "metadata": {},
          "output_type": "execute_result"
        }
      ],
      "source": [
        "# Preenchendo a planilha com uma lista de listas\n",
        "lista = [['CÓDIGO', 'DESCRIÇÃO', 'VALOR'],\n",
        "         ['001', 'MATERIAL DE LIMPEZA', 1000],\n",
        "         ['002', 'MATERIAL DE CONSUMO', 2000],\n",
        "         ['003', 'MATERIAL PRIMA', 5000]]\n",
        "lista"
      ]
    },
    {
      "cell_type": "code",
      "execution_count": 22,
      "metadata": {},
      "outputs": [],
      "source": [
        "# Preenchendo a planilha com uma lista de listas\n",
        "planilha_valores = wb['Minha planilha']\n",
        "\n",
        "for linha, dados_linha in enumerate(lista):\n",
        "    for coluna, item in enumerate(dados_linha):\n",
        "        planilha_valores.cell(row=linha+1, column=coluna+1, value=item)\n",
        "wb.save('Teste_aula02.xlsx')\n"
      ]
    },
    {
      "cell_type": "markdown",
      "metadata": {
        "id": "o068HktqZxM0"
      },
      "source": [
        "## 3. Acessando valores"
      ]
    },
    {
      "cell_type": "code",
      "execution_count": 23,
      "metadata": {},
      "outputs": [],
      "source": [
        "wb = load_workbook('Teste_aula02.xlsx')\n",
        "planilha = wb['Minha planilha']"
      ]
    },
    {
      "cell_type": "code",
      "execution_count": 24,
      "metadata": {},
      "outputs": [
        {
          "name": "stdout",
          "output_type": "stream",
          "text": [
            "('CÓDIGO', 'DESCRIÇÃO', 'VALOR')\n",
            "('001', 'MATERIAL DE LIMPEZA', 1000)\n",
            "('002', 'MATERIAL DE CONSUMO', 2000)\n",
            "('003', 'MATERIAL PRIMA', 5000)\n"
          ]
        }
      ],
      "source": [
        "for linha in planilha.values:\n",
        "    print(linha)"
      ]
    },
    {
      "cell_type": "code",
      "execution_count": 25,
      "metadata": {},
      "outputs": [
        {
          "data": {
            "text/plain": [
              "[['CÓDIGO', 'DESCRIÇÃO', 'VALOR'],\n",
              " ['001', 'MATERIAL DE LIMPEZA', 1000],\n",
              " ['002', 'MATERIAL DE CONSUMO', 2000],\n",
              " ['003', 'MATERIAL PRIMA', 5000]]"
            ]
          },
          "execution_count": 25,
          "metadata": {},
          "output_type": "execute_result"
        }
      ],
      "source": [
        "dados = []\n",
        "for linha in planilha.values:\n",
        "    dados.append(list(linha))\n",
        "dados"
      ]
    },
    {
      "cell_type": "code",
      "execution_count": 26,
      "metadata": {},
      "outputs": [
        {
          "data": {
            "text/plain": [
              "[['CÓDIGO', 'DESCRIÇÃO', 'VALOR'],\n",
              " ['001', 'MATERIAL DE LIMPEZA', 1000],\n",
              " ['002', 'MATERIAL DE CONSUMO', 2000],\n",
              " ['003', 'MATERIAL PRIMA', 5000]]"
            ]
          },
          "execution_count": 26,
          "metadata": {},
          "output_type": "execute_result"
        }
      ],
      "source": [
        "dados = [list(linha) for linha in planilha.values]\n",
        "dados"
      ]
    },
    {
      "cell_type": "code",
      "execution_count": 27,
      "metadata": {},
      "outputs": [
        {
          "name": "stdout",
          "output_type": "stream",
          "text": [
            "('CÓDIGO', 'DESCRIÇÃO')\n",
            "('001', 'MATERIAL DE LIMPEZA')\n",
            "('002', 'MATERIAL DE CONSUMO')\n",
            "('003', 'MATERIAL PRIMA')\n"
          ]
        }
      ],
      "source": [
        "for linha in planilha.iter_rows(min_row=1, max_row=4,\n",
        "                                max_col=2, values_only=True):\n",
        "    print(linha)"
      ]
    },
    {
      "cell_type": "markdown",
      "metadata": {
        "id": "Fe4wOeQPZx9O"
      },
      "source": [
        "## 4. Copiando planilhas"
      ]
    },
    {
      "cell_type": "code",
      "execution_count": 29,
      "metadata": {},
      "outputs": [
        {
          "data": {
            "text/plain": [
              "['Teste', 'Minha planilha', 'Cópia']"
            ]
          },
          "execution_count": 29,
          "metadata": {},
          "output_type": "execute_result"
        }
      ],
      "source": [
        "wb = load_workbook('Teste_aula02.xlsx')\n",
        "planilha = wb['Minha planilha']\n",
        "copia_planilha = wb.copy_worksheet(planilha)\n",
        "copia_planilha.title = \"Cópia\"\n",
        "wb.sheetnames"
      ]
    },
    {
      "cell_type": "code",
      "execution_count": 30,
      "metadata": {},
      "outputs": [],
      "source": [
        "wb.save('Teste_aula02.xlsx')"
      ]
    },
    {
      "cell_type": "code",
      "execution_count": 31,
      "metadata": {},
      "outputs": [],
      "source": [
        "def copiar_planilha(pasta_trabalho, planilha_copiada, nome_copia):\n",
        "    copia= pasta_trabalho.copy_worksheet(pasta_trabalho[planilha_copiada])\n",
        "    copia.title = nome_copia"
      ]
    },
    {
      "cell_type": "code",
      "execution_count": 32,
      "metadata": {},
      "outputs": [],
      "source": [
        "copiar_planilha(wb, 'Teste', 'Nova cópia')\n",
        "wb.save('Teste_aula02.xlsx')"
      ]
    },
    {
      "cell_type": "markdown",
      "metadata": {
        "id": "SIu28HiNJjaq"
      },
      "source": [
        "## 5. Criando a classe Planilhas"
      ]
    },
    {
      "cell_type": "code",
      "execution_count": 37,
      "metadata": {},
      "outputs": [],
      "source": [
        "from openpyxl import Workbook, load_workbook\n",
        "\n",
        "class Planilhas():\n",
        "    def __init__(self, workbook):\n",
        "        self.workbook = workbook\n",
        "        if 'Sheet' in self.workbook.sheetnames:\n",
        "            planilha_padrao = self.workbook['Sheet']\n",
        "            self.workbook.remove(planilha_padrao)\n",
        "\n",
        "    def salvar_workbook(self, nome_arq):\n",
        "        self.workbook.save(f'{nome_arq}.xlsx')\n",
        "\n",
        "    def abrir_workbook(self, nome_arq):\n",
        "        self.workbook.save = load_workbook(f'{nome_arq}.xlsx')\n",
        "        \n",
        "    def criar_planilhas(self, planilhas):\n",
        "        for planilha in planilhas:\n",
        "            self.workbook.create_sheet(planilha)"
      ]
    },
    {
      "cell_type": "code",
      "execution_count": 38,
      "metadata": {},
      "outputs": [],
      "source": [
        "pasta_trabalho = Planilhas(Workbook())\n",
        "pasta_trabalho.criar_planilhas(['Teste1', 'Teste2', 'Teste3'])\n",
        "pasta_trabalho.salvar_workbook('Orçamento_aula02')"
      ]
    }
  ],
  "metadata": {
    "colab": {
      "provenance": []
    },
    "kernelspec": {
      "display_name": "Python 3",
      "name": "python3"
    },
    "language_info": {
      "codemirror_mode": {
        "name": "ipython",
        "version": 3
      },
      "file_extension": ".py",
      "mimetype": "text/x-python",
      "name": "python",
      "nbconvert_exporter": "python",
      "pygments_lexer": "ipython3",
      "version": "3.12.3"
    }
  },
  "nbformat": 4,
  "nbformat_minor": 0
}
