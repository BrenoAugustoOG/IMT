{
  "cells": [
    {
      "cell_type": "markdown",
      "metadata": {
        "id": "oNAE5ZPfjt3g"
      },
      "source": [
        "#**TTI103 - Lógica de Programação**\n",
        "\n",
        "#**Aula L10 - Atividade 01**\n",
        "\n",
        "#**Prof. Carlos Menezes - LAB8 - 19.03.2024 - 9h30**"
      ]
    },
    {
      "cell_type": "markdown",
      "metadata": {
        "id": "v9WCpnd-qtLX"
      },
      "source": [
        "# Instruções\n",
        "A Atividade 01:\n",
        "* cobre os assuntos estudados nas aulas L1 até L7.\n",
        "* pode ser realizada em duplas.\n",
        "* consta de três exercícios:\n",
        "  * Exercício 01 - Valor 2,0 pontos;\n",
        "  * Exercício 02 - Valor 4,0 pontos;\n",
        "  * Exercício 03 - Valor 4,0 pontos.\n",
        "* deve ser enviada ao ambiente Canvas por apenas um dos integrantes da equipe.\n"
      ]
    },
    {
      "cell_type": "markdown",
      "metadata": {
        "id": "1Iie7NE8pkFd"
      },
      "source": [
        "#Identificação\n",
        "A atividade será realizada em duplas. Favor identificar a tarefa com nome completo e RA de cada integrante da equipe."
      ]
    },
    {
      "cell_type": "code",
      "execution_count": null,
      "metadata": {
        "id": "rGI7vP0Ajsob"
      },
      "outputs": [],
      "source": [
        "# @title Nome - 1º Integrante:\n",
        "Nome1 = \"Breno Augusto Oliveira Gandolfo\" # @param {type:\"string\"}\n"
      ]
    },
    {
      "cell_type": "code",
      "execution_count": null,
      "metadata": {
        "id": "UnY5L7gCqUkV"
      },
      "outputs": [],
      "source": [
        "# @title RA - 1º Integrante:\n",
        "RA1 = \"24.01496-6\" # @param {type:\"string\"}\n"
      ]
    },
    {
      "cell_type": "code",
      "execution_count": null,
      "metadata": {
        "id": "tJwGc4L-q0X4"
      },
      "outputs": [],
      "source": [
        "# @title Nome - 2º Integrante:\n",
        "Nome2 = \"Vitor Porto Vincenzi\" # @param {type:\"string\"}\n"
      ]
    },
    {
      "cell_type": "code",
      "execution_count": null,
      "metadata": {
        "id": "PRb_skA9q9fh"
      },
      "outputs": [],
      "source": [
        "# @title RA - 2º Integrante:\n",
        "RA2 = \"24.00431-6\" # @param {type:\"string\"}\n"
      ]
    },
    {
      "cell_type": "markdown",
      "metadata": {
        "id": "yHnnxSvFrggG"
      },
      "source": [
        "#**Exercício 01**\n",
        "**(Valor: 2,0 pts)** Escreva um programa que calcule a redução de tempo de vida de um fumante a partir do número de cigarros. Pergunte quantos cigarros ele fuma por dia e há quantos anos fuma. Imprima o tempo de vida perdido em dias. Considere que um cigarro rouba 10 minutos de expectativa de vida.\n",
        "\n",
        "\n",
        "**Requerimento:**\n",
        "* Pergunte quantos cigarros ele fuma por dia;\n",
        "* Pergunte há quantos anos fuma;\n",
        "* Calcule o tempo de vida perdido em dias;\n",
        "* O valor de saída deve ser definido com 1 casa decimal.\n",
        "\n",
        "**Exemplos de saída:**\n",
        "\n",
        "$\\Rightarrow$ Exemplo 1:\n",
        "\n",
        "`Digite quantos cigarros você fuma por dia: 10`\n",
        "\n",
        "`Digite há quantos anos fuma: 20`\n",
        "\n",
        "`O tempo de vida perdido em dias: 506.9`\n",
        "\n",
        "$\\Rightarrow$ Exemplo 2:\n",
        "\n",
        "`Digite quantos cigarros você fuma por dia: 30`\n",
        "\n",
        "`Digite há quantos anos fuma: 15`\n",
        "\n",
        "`O tempo de vida perdido em dias: 1140.6`"
      ]
    },
    {
      "cell_type": "code",
      "execution_count": 16,
      "metadata": {
        "id": "KNfFhw25tqIe"
      },
      "outputs": [
        {
          "name": "stdout",
          "output_type": "stream",
          "text": [
            "Tempo perdido em dias é: 1140.6\n"
          ]
        }
      ],
      "source": [
        "# Exercício 01\n",
        "cigarros = float(input('Digite aqui a quantidade de cigarros que você fuma por dia: '))\n",
        "anos = float(input('Digite aqui a quantos anos que você fuma, digite aqui: '))\n",
        "\n",
        "dias = anos*365\n",
        "tempo = ((cigarros*10)/60)/24\n",
        "tempoperdido = tempo*dias\n",
        "print(f'Tempo perdido em dias é: {tempoperdido:.1f}')"
      ]
    },
    {
      "cell_type": "markdown",
      "metadata": {
        "id": "w_vMamRst7pg"
      },
      "source": [
        "#**Exercício 02**\n",
        "\n",
        "**(Valor: 4,0 pts)** Escreva um programa que pergunta a distância que um passageiro deseja percorrer em km. Seu programa deve imprimir o preço da passagem, cobrando 50 centavos por quilômetro para viagens de até 200km e 45 centavos por quilômetro extra para viagens mais longas.\n",
        "\n",
        "**Requerimento:**\n",
        "* Pergunte a distância que um passageiro deseja percorrer em km;\n",
        "* Calcule o preço da passagem;\n",
        "* Os valores de saída devem ser definidos com 2 casas decimais.\n",
        "\n",
        "**Exemplos de saída:**\n",
        "\n",
        "$\\Rightarrow$ Exemplo 1:\n",
        "\n",
        "`Digite a distância que deseja percorrer: 100`\n",
        "\n",
        "`O preço da passagem é: R$ 50.00`\n",
        "\n",
        "$\\Rightarrow$ Exemplo 2:\n",
        "\n",
        "`Digite a distância que deseja percorrer: 300`\n",
        "\n",
        "`O preço da passagem é: R$ 145.00`"
      ]
    },
    {
      "cell_type": "code",
      "execution_count": 18,
      "metadata": {
        "id": "GArN9lgWzTQu"
      },
      "outputs": [
        {
          "name": "stdout",
          "output_type": "stream",
          "text": [
            "O preço da passagem é de: 145.00\n"
          ]
        }
      ],
      "source": [
        "# Exercício 02\n",
        "distanciadesejada = float(input('Digite aqui a distância desejada, em Km: '))\n",
        "\n",
        "distancia_extra = distanciadesejada-200\n",
        "\n",
        "if distanciadesejada <= 200:\n",
        "    preco = distanciadesejada*0.5\n",
        "    print(f'O preço da passagem é de: {preco:.2f}')\n",
        "\n",
        "else:\n",
        "    preco= (distanciadesejada-distancia_extra)*0.5 + distancia_extra*0.45\n",
        "    print(f'O preço da passagem é de: {preco:.2f}')"
      ]
    },
    {
      "cell_type": "markdown",
      "metadata": {
        "id": "YnRB-l7U1qX6"
      },
      "source": [
        "#**Exercício 03**\n",
        "\n",
        "**(Valor: 4,0 pts)** Faça um programa que recebe 11 números (importante: são 11 variáveis diferentes), representando os dígitos de um CPF, e imprime **Válido** se o CPF for válido ou **Inválido** caso contrário. Por exemplo, se o CPF for 529.982.247-25, os argumentos da sua função serão os números 5, 2, 9, 9, 8, 2, 2, 4, 7, 2, 5, nesta ordem. Os dois últimos dígitos são chamados de dígitos verificadores. Para considerar um CPF como válido, é necessário considerar as regras a seguir:\n",
        "\n",
        "- Se todos os dígitos forem iguais, o CPF é inválido.\n",
        "- O primeiro dígito verificador (a penúltima variável) deve ser igual ao resultado da operação a seguir. Multiplique os 9 primeiros dígitos pela sequência decrescente de 10 até 2, some os resultados, multiplique por 10 e então calcule o resto da divisão desse número por 11 e depois o resto da divisão desse resultado por 10.\n",
        "- O segundo dígito verificador (a última variável) deve ser igual ao resultado da operação a seguir. Multiplique os 10 primeiros dígitos pela sequência decrescente de 11 até 2, some os resultados, multiplique por 10 e então calcule o resto da divisão desse número por 11 e depois o resto da divisão desse resultado por 10.\n",
        "\n",
        "$\\Rightarrow$ Exemplos:\n",
        "\n",
        "- Verificação do primeiro dígito do exemplo acima: 5 x 10 + 2 x 9 + 9 x 8 + 9 x 7 + 8 x 6 + 2 x 5 + 2 x 4 + 4 x 3 + 7 x 2 = 295. Multiplicando esse valor por 10, obtemos 2950. O resto da divisão de 2950 por 11 é 2 e o resto da divisão de 2 por 10 é 2. Portanto o primeiro dígito verificador está correto.\n",
        "- Para o segundo dígito verificador do exemplo acima, temos: 5 x 11 + 2 x 10 + 9 x 9 + 9 x 8 + 8 x 7 + 2 x 6 + 2 x 5 + 4 x 4 + 7 x 3 + 2 x 2 = 347. Multiplicando por 10, obtemos 3470, o resto da divisão de 3470 por 11 é 5 e o resto da divisão de 5 por 10 é 5. Portanto o segundo dígito verificador também está correto.\n",
        "\n",
        "A seguir apresentamos alguns outros exemplos:\n",
        "\n",
        "- 1, 1, 1, 1, 1, 1, 1, 1, 1, 1, 1: inválido\n",
        "- 2, 2, 2, 2, 2, 2, 2, 2, 2, 2, 2: inválido\n",
        "- Todos os outros casos com todos os dígitos iguais: inválidos\n",
        "- 5, 2, 9, 9, 8, 2, 2, 4, 7, 3, 5: inválido, pois vimos que o primeiro dígito verificador deveria ser 2\n",
        "- 5, 2, 9, 9, 8, 2, 2, 4, 7, 2, 4: inválido, pois vimos que o primeiro dígito verificador deveria ser 5\n",
        "- 5, 2, 9, 9, 8, 2, 2, 4, 7, 2, 5: válido\n",
        "- Teste também com o seu próprio CPF"
      ]
    },
    {
      "cell_type": "code",
      "execution_count": 20,
      "metadata": {
        "id": "rbBisLdA0HmN"
      },
      "outputs": [
        {
          "name": "stdout",
          "output_type": "stream",
          "text": [
            "O CPF digitado é inválido!\n"
          ]
        }
      ],
      "source": [
        "# Exercício 03\n",
        "cpf1 = int(input('Digite aqui o primeiro dígito do seu CPF: '))\n",
        "cpf2 = int(input('Digite aqui o segundo dígito do seu CPF: '))\n",
        "cpf3 = int(input('Digite aqui o terceiro dígito do seu CPF: '))\n",
        "cpf4 = int(input('Digite aqui o quarto dígito do seu CPF: '))\n",
        "cpf5 = int(input('Digite aqui o quinto dígito do seu CPF: '))\n",
        "cpf6 = int(input('Digite aqui o sexto dígito do seu CPF: '))\n",
        "cpf7 = int(input('Digite aqui o setimo dígito do seu CPF: '))\n",
        "cpf8 = int(input('Digite aqui o oitavo dígito do seu CPF: '))\n",
        "cpf9 = int(input('Digite aqui o nono dígito do seu CPF: '))\n",
        "cpf10 = int(input('Digite aqui o décimo dígito do seu CPF: '))\n",
        "cpf11 = int(input('Digite aqui o décimo-primeiro dígito do seu CPF: '))\n",
        "\n",
        "\n",
        "primeiro_verificador = ((((cpf1*10)+(cpf2*9)+(cpf3*8)+(cpf4*7)+(cpf5*6)+(cpf6*5)+(cpf7*4)+(cpf8*3)+(cpf9*2))*10)%11)%10\n",
        "segundo_verificador = ((((cpf1*11)+(cpf2*10)+(cpf3*9)+(cpf4*8)+(cpf5*7)+(cpf6*6)+(cpf7*5)+(cpf8*4)+(cpf9*3)+(cpf10*2))*10)%11)%10\n",
        "\n",
        "\n",
        "if cpf1 == cpf2 == cpf3 == cpf4 == cpf5 == cpf6 == cpf7 == cpf8 == cpf9 == cpf10 == cpf11:\n",
        "    print('O CPF digitado é inválido!')\n",
        "\n",
        "elif primeiro_verificador == cpf10 and segundo_verificador == cpf11:\n",
        "    print('O CPF digitado é valido!')\n",
        "\n",
        "elif primeiro_verificador != cpf10 and segundo_verificador != cpf11:\n",
        "    print('O CPF digitado é inválido!')"
      ]
    }
  ],
  "metadata": {
    "colab": {
      "provenance": []
    },
    "kernelspec": {
      "display_name": "Python 3",
      "name": "python3"
    },
    "language_info": {
      "codemirror_mode": {
        "name": "ipython",
        "version": 3
      },
      "file_extension": ".py",
      "mimetype": "text/x-python",
      "name": "python",
      "nbconvert_exporter": "python",
      "pygments_lexer": "ipython3",
      "version": "3.12.2"
    }
  },
  "nbformat": 4,
  "nbformat_minor": 0
}
