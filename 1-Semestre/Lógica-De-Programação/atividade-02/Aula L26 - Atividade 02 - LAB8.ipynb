{
  "cells": [
    {
      "cell_type": "markdown",
      "metadata": {
        "id": "oNAE5ZPfjt3g"
      },
      "source": [
        "# **TTI103 - Lógica de Programação**\n",
        "\n",
        "# **Aula L26 - Atividade 02**\n",
        "\n",
        "# **Prof. Carlos Menezes - LAB8 - 21.05.2024 - 9h30**"
      ]
    },
    {
      "cell_type": "markdown",
      "metadata": {
        "id": "v9WCpnd-qtLX"
      },
      "source": [
        "# Instruções\n",
        "A Atividade 02:\n",
        "* cobre os assuntos estudados nas aulas L13 até L25.\n",
        "* pode ser realizada em duplas.\n",
        "* consta de três exercícios:\n",
        "  * Exercício 01 - Valor 5,0 pontos;\n",
        "  * Exercício 02 - Valor 2,0 pontos;\n",
        "  * Exercício 03 - Valor 3,0 pontos.\n",
        "* deve ser enviada ao ambiente Canvas por apenas um dos integrantes da equipe.\n"
      ]
    },
    {
      "cell_type": "markdown",
      "metadata": {
        "id": "1Iie7NE8pkFd"
      },
      "source": [
        "#Identificação\n",
        "A atividade será realizada em duplas. Favor identificar a tarefa com nome completo e RA de cada integrante da equipe."
      ]
    },
    {
      "cell_type": "code",
      "execution_count": null,
      "metadata": {
        "id": "rGI7vP0Ajsob"
      },
      "outputs": [],
      "source": [
        "# @title Nome - 1º Integrante:\n",
        "Nome1 = \"Breno Augusto Oliveira Gandolfo\" # @param {type:\"string\"}\n"
      ]
    },
    {
      "cell_type": "code",
      "execution_count": null,
      "metadata": {
        "id": "UnY5L7gCqUkV"
      },
      "outputs": [],
      "source": [
        "# @title RA - 1º Integrante:\n",
        "RA1 = \"24.01496-6\" # @param {type:\"string\"}\n"
      ]
    },
    {
      "cell_type": "code",
      "execution_count": null,
      "metadata": {
        "id": "tJwGc4L-q0X4"
      },
      "outputs": [],
      "source": [
        "# @title Nome - 2º Integrante:\n",
        "Nome2 = \"Mateo Vuolo Cortez\" # @param {type:\"string\"}\n"
      ]
    },
    {
      "cell_type": "code",
      "execution_count": null,
      "metadata": {
        "id": "PRb_skA9q9fh"
      },
      "outputs": [],
      "source": [
        "# @title RA - 2º Integrante:\n",
        "RA2 = \"24.00775-7\" # @param {type:\"string\"}\n"
      ]
    },
    {
      "cell_type": "markdown",
      "metadata": {
        "id": "YnRB-l7U1qX6"
      },
      "source": [
        "# **Exercício 01**\n",
        "\n",
        "**(Valor: 5,0 pts)** Elabore um programa modularizado que implemente uma agenda de contatos.\n",
        "\n",
        "Os contatos estarão armazenados em um dicionário cujas chaves são os nomes dos contatos e os valores são listas que contém o telefone e o perfil do contato no Instagram.\n",
        "\n",
        "Para ajudar no desenvolvimento do programa, execute a célula a seguir para criar um dicionário base."
      ]
    },
    {
      "cell_type": "code",
      "execution_count": null,
      "metadata": {
        "id": "rbBisLdA0HmN"
      },
      "outputs": [],
      "source": [
        "# Agenda base\n",
        "agenda = {'Gustavo Alves': ['(11) 99685-2345', '@gu_alves'],\n",
        "          'Laura Alves': ['(11) 97428-2001', '@lalinha_alves'],\n",
        "          'Janaina Goulart': ['(21) 92134-0543', '@jango_25'],\n",
        "          'Maria Prado': ['(35) 93821-2289', '@mariaprado_insta'],\n",
        "          'Zenon Galhardo': ['(13) 92121-3997', '@zengalhardo']}"
      ]
    },
    {
      "cell_type": "markdown",
      "metadata": {
        "id": "Y1DI0Er5vTFE"
      },
      "source": [
        "**a)** Elabore uma função `adiciona_contato` que recebe um dicionário de contatos, insere as informações do novo contato e retorna o dicionário de contatos atualizado. Execute a célula de teste para verificar o funcionamento da função."
      ]
    },
    {
      "cell_type": "code",
      "execution_count": 12,
      "metadata": {
        "id": "2Pt-F_pjvi1P"
      },
      "outputs": [
        {
          "name": "stdout",
          "output_type": "stream",
          "text": [
            "-- Adicionar Contato --\n",
            "Contato Joaquim Santos adicionado com sucesso.\n",
            "{'Gustavo Alves': ['(11) 99685-2345', '@gu_alves'], 'Laura Alves': ['(11) 97428-2001', '@lalinha_alves'], 'Janaina Goulart': ['(21) 92134-0543', '@jango_25'], 'Maria Prado': ['(35) 93821-2289', '@mariaprado_insta'], 'Zenon Galhardo': ['(13) 92121-3997', '@zengalhardo'], 'Joaquim Santos': ['(13) 94576-1209', '@jocantos']}\n"
          ]
        }
      ],
      "source": [
        "# Função adiciona_contato\n",
        "def adiciona_contato(agenda):\n",
        "    nome = input(\"Digite o nome do contato: \")\n",
        "    telefone = input(\"Digite o telefone do contato: \")\n",
        "    instagram = input(\"Digite o perfil do Instagram do contato: \")\n",
        "    \n",
        "    if nome in agenda:\n",
        "        print(\"Contato já existe na agenda.\")\n",
        "    else:\n",
        "        agenda[nome] = [telefone, instagram]\n",
        "        print(f\"Contato {nome} adicionado com sucesso.\")\n",
        "    \n",
        "    return agenda\n",
        "\n",
        "# Teste da função adiciona_contato\n",
        "print(\"-- Adicionar Contato --\")\n",
        "agenda = adiciona_contato(agenda)\n",
        "print(agenda)"
      ]
    },
    {
      "cell_type": "code",
      "execution_count": null,
      "metadata": {
        "id": "a716hXyMv916"
      },
      "outputs": [],
      "source": [
        "# Teste da função adiciona_contato\n",
        "# Informações do novo contato:\n",
        "# Nome: Joaquim Santos\n",
        "# Celular: (13) 94576-1209\n",
        "# Instagram: @jocantos\n",
        "adiciona_contato(agenda)\n",
        "print(agenda)"
      ]
    },
    {
      "cell_type": "markdown",
      "metadata": {
        "id": "0FAFg0otwO9N"
      },
      "source": [
        "**b)** Elabore uma função `apaga_contato` que recebe um dicionário de contatos e o nome do contato a ser apagado. Após a eliminação do contato, retorna o dicionário atualizado. Execute a célula de teste para verificar o funcionamento da função."
      ]
    },
    {
      "cell_type": "code",
      "execution_count": 13,
      "metadata": {
        "id": "icMW2OzEwV20"
      },
      "outputs": [
        {
          "name": "stdout",
          "output_type": "stream",
          "text": [
            "-- Apagar Contato --\n",
            "Contato Joaquim Santos removido com sucesso.\n",
            "{'Gustavo Alves': ['(11) 99685-2345', '@gu_alves'], 'Laura Alves': ['(11) 97428-2001', '@lalinha_alves'], 'Janaina Goulart': ['(21) 92134-0543', '@jango_25'], 'Maria Prado': ['(35) 93821-2289', '@mariaprado_insta'], 'Zenon Galhardo': ['(13) 92121-3997', '@zengalhardo']}\n"
          ]
        }
      ],
      "source": [
        "# Função apaga_contato\n",
        "def apaga_contato(agenda, nome):\n",
        "    if nome in agenda:\n",
        "        del agenda[nome]\n",
        "        print(f\"Contato {nome} removido com sucesso.\")\n",
        "    else:\n",
        "        print(\"Contato não encontrado na agenda.\")\n",
        "    \n",
        "    return agenda\n",
        "\n",
        "# Teste da função apaga_contato\n",
        "print(\"-- Apagar Contato --\")\n",
        "nome_contato = input(\"Digite o nome do contato a ser apagado: \")\n",
        "\n",
        "apaga_contato(agenda, nome_contato)\n",
        "print(agenda)\n"
      ]
    },
    {
      "cell_type": "code",
      "execution_count": null,
      "metadata": {
        "id": "uaPcJQO2xIDC"
      },
      "outputs": [],
      "source": [
        "# Teste da função apaga_contato\n",
        "apaga_contato(agenda, 'Maria Prado')\n",
        "print(agenda)"
      ]
    },
    {
      "cell_type": "markdown",
      "metadata": {
        "id": "ZeHQuqoaxOoq"
      },
      "source": [
        "**c)** Elabore uma função `encontra_contato` que recebe um dicionário de contatos e o nome do contato a ser localizado.\n",
        "\n",
        "Caso o contato esteja na agenda, a função deve exibir suas informações; caso contrário, deve informar ao usuário que o contato não foi encontrado.\n",
        "\n",
        "Execute a célula de teste para verificar o funcionamento da função."
      ]
    },
    {
      "cell_type": "code",
      "execution_count": null,
      "metadata": {
        "id": "ZHz0inDKxRo8"
      },
      "outputs": [],
      "source": [
        "# Função encontra_contato\n",
        "def encontra_contato(agenda, nome):\n",
        "    if nome in agenda:\n",
        "        telefone, instagram = agenda[nome]\n",
        "        print(f\"Contato encontrado: {nome}\")\n",
        "        print(f\"Telefone: {telefone}\")\n",
        "        print(f\"Instagram: {instagram}\")\n",
        "    else:\n",
        "        print(\"Contato não encontrado na agenda.\")\n",
        "\n",
        "# Teste da função encontra_contato\n",
        "print(\"-- Encontrar Contato --\")\n",
        "nome_contato = input(\"Digite o nome do contato a ser encontrado: \")\n",
        "encontra_contato(agenda, nome_contato)"
      ]
    },
    {
      "cell_type": "code",
      "execution_count": null,
      "metadata": {
        "id": "FuvpAGT-x55b"
      },
      "outputs": [],
      "source": [
        "# Teste da função encontra_contato\n",
        "encontra_contato(agenda, 'Laura Alves')\n",
        "encontra_contato(agenda, 'Cleber Silva')"
      ]
    },
    {
      "cell_type": "markdown",
      "metadata": {
        "id": "uZCfT1NRyFM2"
      },
      "source": [
        "**d)** Elabore uma função `atualiza_contato` que recebe um dicionário de contatos e o nome do contato cujas informações devem ser atualizadas.\n",
        "\n",
        "Caso o contato esteja na agenda, a função deve perguntar ao usuário qual das informações deseja atualizar (1-celular, 2-Instagram). Após a atualização, a função deve retornar o dicionário de contatos atualizado. Caso contrário, deve informar ao usuário que o contato não foi encontrado.\n",
        "\n",
        "Execute a célula de teste para verificar o funcionamento da função."
      ]
    },
    {
      "cell_type": "code",
      "execution_count": null,
      "metadata": {
        "id": "SuUMxjJzyGma"
      },
      "outputs": [],
      "source": [
        "# Função atualiza_contato\n",
        "def atualiza_contato(agenda, nome):\n",
        "    if nome in agenda:\n",
        "        print(f\"Contato encontrado: {nome}\")\n",
        "        print(f\"1. Telefone: {agenda[nome][0]}\")\n",
        "        print(f\"2. Instagram: {agenda[nome][1]}\")\n",
        "        escolha = input(\"Qual informação deseja atualizar? (1- Telefone, 2- Instagram): \")\n",
        "\n",
        "        if escolha == '1':\n",
        "            novo_telefone = input(\"Digite o novo telefone: \")\n",
        "            agenda[nome][0] = novo_telefone\n",
        "            print(f\"Telefone do contato {nome} atualizado com sucesso.\")\n",
        "        elif escolha == '2':\n",
        "            novo_instagram = input(\"Digite o novo Instagram: \")\n",
        "            agenda[nome][1] = novo_instagram\n",
        "            print(f\"Instagram do contato {nome} atualizado com sucesso.\")\n",
        "        else:\n",
        "            print(\"Opção inválida.\")\n",
        "    else:\n",
        "        print(\"Contato não encontrado na agenda.\")\n",
        "    \n",
        "    return agenda\n",
        "\n",
        "# Teste da função atualiza_contato\n",
        "print(\"-- Atualizar Contato --\")\n",
        "nome_contato = input(\"Digite o nome do contato a ser atualizado: \")\n",
        "agenda = atualiza_contato(agenda, nome_contato)\n",
        "print(agenda)"
      ]
    },
    {
      "cell_type": "code",
      "execution_count": null,
      "metadata": {
        "id": "zphGoJr3zANS"
      },
      "outputs": [],
      "source": [
        "# Teste da função atualiza_contato\n",
        "atualiza_contato(agenda, 'Laura Alves')\n",
        "atualiza_contato(agenda, 'Cleber Silva')\n",
        "print(agenda)"
      ]
    },
    {
      "cell_type": "markdown",
      "metadata": {},
      "source": [
        "# **Exercício 02**\n",
        "**(Valor: 2,0 pts)** Faça uma função que calcule **recursivamente** o valor da expressão:\n",
        "\n",
        "expressao(n) = 1/1 + 1/2 + 1/3 + 1/4 + 1/5 + 1/6 + ...+ 1/(n-1) + 1/n\n",
        "\n",
        "\n",
        "Ou seja, para:\n",
        "\n",
        "* n=1 -> expressao(1) = 1/1\n",
        "* n=2 -> expressao(2) = 1/1 + 1/2\n",
        "* n=3 -> expressao(3) = 1/1 + 1/2 + 1/3\n",
        "* n=4 -> expressao(4) = 1/1 + 1/2 + 1/3 + 1/4\n",
        "\n",
        "Teste a função imprimindo expressao(10) e expressao(100):"
      ]
    },
    {
      "cell_type": "code",
      "execution_count": null,
      "metadata": {},
      "outputs": [],
      "source": [
        "def expressao(n):\n",
        "    if n == 1:\n",
        "        return 1\n",
        "    else:\n",
        "        return 1/n + expressao(n-1)\n",
        "\n",
        "# Testando a função\n",
        "print(expressao(10))  # Esperado: 2.9289682539682538\n",
        "print(expressao(100)) # Esperado: 5.187377517639621\n",
        "print(expressao(1))"
      ]
    },
    {
      "cell_type": "markdown",
      "metadata": {},
      "source": [
        "# **Exercício 03**\n",
        "\n",
        "**(Valor: 3,0 pts)** O **Maganize da Moda** comprou de uma fábrica muitos pares de um novo modelo de sapatos masculino. No entanto, por uma falha de empacotamento da fábrica, nem todas as caixas entregues continham um par correto de sapatos, com dois pés do mesmo tamanho, um para cada pé. O gerente mandou que os funcionários retirassem todos os pés de todas as caixas para reembalá-las, desta vez corretamente.\n",
        "\n",
        "Quando o gerente descobriu que vocês sabiam programar, ele pediu que vocês escrevessem um programa que, dada a lista contendo a descrição de cada sapato entregue, determina quantos pares corretos de sapatos poderão ser formados no total.\n",
        "\n",
        "## Entrada\n",
        "\n",
        "A entrada é composta por vários dados: a primeira linha contém um inteiro N (2 ≤ N ≤ 10^4), N é par, indicando o número de calçados individuais entregues. Cada uma das N linhas seguintes descreve um pé, contendo um número inteiro M (30 ≤ M ≤ 60) e uma letra L, separados por uma espaço em branco. M indica o número do sapato e L indica o lado do sapato: L = 'D' indica que é para o pé direito, L = 'E' indica que é para o pé esquerdo.\n",
        "\n",
        "## Saída\n",
        "\n",
        "Imprima uma linha contendo um único número inteiro indicando o número total de **pares** corretos que podem ser formados.\n",
        "\n",
        "\n",
        "## Sugestão\n",
        "\n",
        "A sugestão é usar dois dicionários, como exemplificado abaixo, para guardar a contagem de pés de cada número. Depois, percorro os dicionários para contar os pares (exemplo, se tenho 10 sapatos 37 Esquerdos e 15 Direitos, só posso formar 10 pares, ou seja, pego o menor valor dentre as duas contagens do mesmo número!).\n",
        "\n",
        "\n",
        "### Exemplo de Entrada\n",
        "4\n",
        "\n",
        "40 D\n",
        "\n",
        "41 E\n",
        "\n",
        "41 D\n",
        "\n",
        "40 E\n",
        "\n",
        "\n",
        "### Estrutura interna com Dicionários:\n",
        "\n",
        "D = {40:1, 41:1}\n",
        "\n",
        "E = {40:1, 41:1}\n",
        "\n",
        "### Exemplo de Saída\n",
        "\n",
        "2\n",
        "\n",
        "\n",
        "### Exemplo de Entrada\n",
        "\n",
        "6\n",
        "\n",
        "38 E\n",
        "\n",
        "38 E\n",
        "\n",
        "40 D\n",
        "\n",
        "38 D\n",
        "\n",
        "40 D\n",
        "\n",
        "37 E\n",
        "\n",
        "\n",
        "### Estrutura interna com Dicionários:\n",
        "\n",
        "D = {38:1, 40:2}\n",
        "\n",
        "E = {37:1, 38:2}\n",
        "\n",
        "\n",
        "### Exemplo de Saída\n",
        "\n",
        "1"
      ]
    },
    {
      "cell_type": "markdown",
      "metadata": {},
      "source": [
        "**a)** Faça uma função que faça a entrada de dados e retorne uma matriz com os pés:\n",
        "\n",
        "* Retorno com os dados do **primeiro** exemplo:\n",
        "\n",
        "    [ [40,'D'], [41,'E'], [41,'D'], [40,'E'] ]\n",
        "\n",
        "\n",
        "* Retorno com os dados do **segundo** exemplo:\n",
        "\n",
        "    [ [38,'E'], [38,'E'], [40,'D'], [38,'D'], [40,'D'], [37,'E'] ]\n"
      ]
    },
    {
      "cell_type": "code",
      "execution_count": null,
      "metadata": {},
      "outputs": [],
      "source": [
        "def entrada():\n",
        "    # Lendo o número de sapatos individuais\n",
        "    N = int(input(\"Digite o número de sapatos individuais: \"))\n",
        "    \n",
        "    # Inicializando a matriz para armazenar os sapatos\n",
        "    sapatos = []\n",
        "    \n",
        "    # Lendo cada sapato e adicionando à matriz\n",
        "    for _ in range(N):\n",
        "        M, L = input(\"Digite o tamanho e o lado do sapato (separados por espaço): \").split()\n",
        "        sapatos.append([int(M), L])\n",
        "    \n",
        "    return sapatos\n",
        "\n",
        "# Teste da função\n",
        "print(entrada())"
      ]
    },
    {
      "cell_type": "markdown",
      "metadata": {},
      "source": [
        "**b)** Faça uma função que receba a matriz dos pés de sapato e retorne a contagem dos pares existentes."
      ]
    },
    {
      "cell_type": "code",
      "execution_count": 17,
      "metadata": {},
      "outputs": [
        {
          "name": "stdout",
          "output_type": "stream",
          "text": [
            "Contagem de pares: 2\n"
          ]
        }
      ],
      "source": [
        "def entrada():\n",
        "    # Lendo o número de sapatos individuais\n",
        "    N = int(input(\"Digite o número de sapatos individuais: \"))\n",
        "    \n",
        "    # Inicializando a matriz para armazenar os sapatos\n",
        "    sapatos = []\n",
        "    \n",
        "    # Lendo cada sapato e adicionando à matriz\n",
        "    for _ in range(N):\n",
        "        M, L = input(\"Digite o tamanho e o lado do sapato (separados por espaço): \").split()\n",
        "        sapatos.append([int(M), L])\n",
        "    \n",
        "    return sapatos\n",
        "\n",
        "def contagem(sapatos):\n",
        "    # Inicializando o dicionário para armazenar a contagem de cada tamanho de sapato para cada lado\n",
        "    contagem = {}\n",
        "    \n",
        "    # Iterando sobre cada par de sapato na matriz\n",
        "    for tamanho, lado in sapatos:\n",
        "        if tamanho not in contagem:\n",
        "            contagem[tamanho] = {'D': 0, 'E': 0}\n",
        "        \n",
        "        # Atualizando a contagem para o lado do sapato\n",
        "        contagem[tamanho][lado] += 1\n",
        "    \n",
        "    # Inicializando o número total de pares\n",
        "    total_pares = 0\n",
        "    \n",
        "    # Iterando sobre os itens do dicionário e calculando o número total de pares possíveis\n",
        "    for tamanho, cont in contagem.items():\n",
        "        total_pares += min(cont['D'], cont['E'])\n",
        "    \n",
        "    # Retornando o número total de pares\n",
        "    return total_pares\n",
        "\n",
        "# Teste da função\n",
        "\n",
        "sapatos = entrada()\n",
        "\n",
        "print(\"Contagem de pares:\", contagem(sapatos))\n"
      ]
    }
  ],
  "metadata": {
    "colab": {
      "provenance": []
    },
    "kernelspec": {
      "display_name": "Python 3",
      "name": "python3"
    },
    "language_info": {
      "codemirror_mode": {
        "name": "ipython",
        "version": 3
      },
      "file_extension": ".py",
      "mimetype": "text/x-python",
      "name": "python",
      "nbconvert_exporter": "python",
      "pygments_lexer": "ipython3",
      "version": "3.12.3"
    }
  },
  "nbformat": 4,
  "nbformat_minor": 0
}
