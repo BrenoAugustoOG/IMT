{
  "nbformat": 4,
  "nbformat_minor": 0,
  "metadata": {
    "colab": {
      "provenance": []
    },
    "kernelspec": {
      "name": "python3",
      "display_name": "Python 3"
    },
    "language_info": {
      "name": "python"
    }
  },
  "cells": [
    {
      "cell_type": "markdown",
      "source": [
        "#**TTI103 - Lógica de Programação**\n",
        "\n",
        "#**Aula L7 - Estruturas de Decisão**"
      ],
      "metadata": {
        "id": "oNAE5ZPfjt3g"
      }
    },
    {
      "cell_type": "markdown",
      "source": [
        "#**Exercício 01**\n",
        "\n",
        "Escreva um programa Python que recebe um ano de nosso calendário gregoriano $[1]$ no formato $YYYY$ e decida se o ano é bissexto ou não.\n",
        "\n",
        "*ALGORITMO:* Para determinar se um ano é bissexto, execute estas etapas:\n",
        "\n",
        "(1) Se o ano for uniformemente divisível por 4, vá para a etapa 2. Caso contrário, vá para a etapa 5.\n",
        "\n",
        "(2) Se o ano for uniformemente divisível por 100, vá para a etapa 3. Caso contrário, vá para a etapa 4.\n",
        "\n",
        "(3) Se o ano for uniformemente divisível por 400, vá para a etapa 4. Caso contrário, vá para a etapa 5.\n",
        "\n",
        "(4) O ano é bissexto (tem 366 dias).\n",
        "\n",
        "(5) O ano não é um ano bissexto (tem 365 dias).\n",
        "\n",
        "$[1]$ Calendário criado em 1582 pelo Papa Gregório XIII (1502 – 1585) — daí o nome “gregoriano”."
      ],
      "metadata": {
        "id": "yHnnxSvFrggG"
      }
    },
    {
      "cell_type": "code",
      "source": [
        "# Exercício 01"
      ],
      "metadata": {
        "id": "B2F61JDO50FU"
      },
      "execution_count": null,
      "outputs": []
    },
    {
      "cell_type": "markdown",
      "source": [
        "#**Exercício 02**\n",
        "\n",
        "Escreva um programa Python que determine o estágio de vida de uma pessoa, a partir de sua idade:\n",
        "\n",
        "* Se a pessoa tiver menos de 2 anos, imprima uma mensagem informando que a pessoa é um bebê.\n",
        "* Se a pessoa tiver pelo menos 2 anos, mas menos de 4, imprima uma mensagem informando que a\n",
        "pessoa é uma criança de colo.\n",
        "* Se a pessoa tiver pelo menos 4 anos, mas menos de 13, imprima uma mensagem informando que\n",
        "a pessoa é uma criança.\n",
        "* Se a pessoa tiver pelo menos 13 anos, mas menos de 20, imprima uma mensagem dizendo que\n",
        "a pessoa é um adolescente.\n",
        "* Se a pessoa tiver pelo menos 20 anos, mas menos de 65, imprima uma mensagem que\n",
        "dizendo que a pessoa é adulta.\n",
        "* Se a pessoa tiver 65 anos ou mais, imprima uma mensagem informando que a pessoa é idosa."
      ],
      "metadata": {
        "id": "SXv1755C53CU"
      }
    },
    {
      "cell_type": "code",
      "source": [
        "# Exercício 02"
      ],
      "metadata": {
        "id": "KSFlFxMY9NhO"
      },
      "execution_count": null,
      "outputs": []
    },
    {
      "cell_type": "markdown",
      "source": [
        "#**Exercício 03**\n",
        "\n",
        "Escreva um programa Python que recebe um único carácter como entrada e decide se esse carácter é uma letra maiúscula, uma letra minúscula, um algarismo decimal ou um carácter especial.\n",
        "\n",
        "Na codificação ASCII:\n",
        "* As letras maiúsculas de 'A' a 'Z' são codificadas pelos decimais 65 a 90;\n",
        "* As letras minúsculas de 'a' a 'z' são codificadas pelos decimais 97 a 122;\n",
        "* Os algarismos decimais são codificados pelos decimais 48 a 57;\n",
        "* Os decimais de 0 a 255, com exceção daqueles mencionados acima, codificam caracteres especiais.\n",
        "\n",
        "*IMPORTANTE:* Para checar a codificação ASCII da variável `caracter`que contém um único carácter, use o comando ` ord`. Veja um exemplo:\n",
        "\n",
        "`caracter = A`\n",
        "\n",
        "`decimal = ord(caracter)`\n",
        "\n",
        "`print(decimal)`\n",
        "\n",
        "`65`"
      ],
      "metadata": {
        "id": "aBnaN_mb9Pst"
      }
    },
    {
      "cell_type": "code",
      "source": [
        "# Exercício 03"
      ],
      "metadata": {
        "id": "FtvHlRliAzi2"
      },
      "execution_count": null,
      "outputs": []
    },
    {
      "cell_type": "markdown",
      "source": [
        "#**Exercício 04**\n",
        "\n",
        "Um vendedor fornece três tipos de brinquedos:\n",
        "\n",
        "(1) brinquedos que usam baterias;\n",
        "\n",
        "(2) brinquedos que usam pilhas;\n",
        "\n",
        "(3) brinquedos com baterias recarregáveis.\n",
        "\n",
        "O vendedor dá um desconto de 10% em pedidos de brinquedos à bateria, se o pedido for superior a $R\\$\\,1000,00$.\n",
        "\n",
        "Em pedidos superiores a $R\\$\\,100,00$ para brinquedos à pilha, é concedido um desconto de 5%.\n",
        "\n",
        "Um desconto de 10% é concedido em pedidos de brinquedos com baterias recarregáveis, caso o valor seja superior a $R\\$\\,500,00$.\n",
        "\n",
        "Suponha que os códigos numéricos 1, 2 e 3 sejam usados para designar brinquedos à bateria, à pilha e à baterias recarregáveis, respectivamente. Escreva um programa Python que leia o código do produto e o valor do pedido. A seguir, calcule e imprima o valor líquido que o cliente deverá pagar após o desconto, se houver."
      ],
      "metadata": {
        "id": "_ZgQVyrNA2AG"
      }
    },
    {
      "cell_type": "code",
      "source": [
        "# Exercício 04"
      ],
      "metadata": {
        "id": "ToW3uB9rDaev"
      },
      "execution_count": null,
      "outputs": []
    },
    {
      "cell_type": "markdown",
      "source": [
        "#**Exercício 05**\n",
        "\n",
        "\n",
        "A concessionária *Paschim Gujarat Vij Company Ltd.* calcula o valor da conta de eletricidade segundo o esquema abaixo:\n",
        "\n",
        "* 0-100 unidades consumidas: $\\$\\,0,50$ por unidade;\n",
        "* 101-200 unidades consumidas: $\\$\\,50$ mais $\\$\\,1$ por unidade acima de 100 unidades;\n",
        "* 201-300 unidades consumidas: $\\$\\,150$ mais $\\$\\,1,50$ por unidade acima de 200 unidades;\n",
        "* Mais de 300 unidades consumidas: $\\$\\,300$ mais $\\$\\,2$ por unidade acima de 300 unidades.\n",
        "\n",
        "Escreva um programa Python que leia o valor passado do medidor (penúltima medição, 30 dias atrás) e o valor atual (última medição, hoje) e, a partir dessas informações, calcule o número de unidades consumidas e o valor da conta de eletricidade do mês."
      ],
      "metadata": {
        "id": "cnPtnkZADwi_"
      }
    },
    {
      "cell_type": "code",
      "source": [
        "# Exercício 05"
      ],
      "metadata": {
        "id": "dSNjB9Q0GTnY"
      },
      "execution_count": null,
      "outputs": []
    }
  ]
}