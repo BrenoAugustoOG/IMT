{
  "cells": [
    {
      "cell_type": "markdown",
      "metadata": {
        "id": "eukAJhnq3T1T"
      },
      "source": [
        "#**TTI103 - Lógica de Programação**\n",
        "\n",
        "#**Aula L20 (Complementar) - Exercícios**"
      ]
    },
    {
      "cell_type": "markdown",
      "metadata": {
        "id": "WaIyvXLa38Xo"
      },
      "source": [
        "##**Exercício 01 – Números primos**\n",
        "\n",
        "Um número primo é um número natural maior do que 1 que só é divisível por 1 e por ele mesmo. Alguns exemplos de números primos são 2, 3, 5, 7, 11, 13, 17, 19, 23, 29, 31, entre outros.\n",
        "\n",
        "A propriedade fundamental dos números primos é que eles não podem ser fatorados em números menores do que eles mesmos.\n",
        "\n",
        "Escreva um programa que solicite a entrada de um número pelo usuário e encontre o próximo número primo a partir deste número de entrada. Por exemplo: se a entrada for o número 4 o programa deverá mostrar que o próximo número primo é 5.\n",
        "\n",
        "*IMPORTANTE:* Utilize a modularização para esse código."
      ]
    },
    {
      "cell_type": "code",
      "execution_count": 11,
      "metadata": {
        "id": "T6hD6HtbhvmY"
      },
      "outputs": [
        {
          "name": "stdout",
          "output_type": "stream",
          "text": [
            "O primo depois de 17 é 19\n"
          ]
        }
      ],
      "source": [
        "def ePrimo(n):\n",
        "    cont = 0\n",
        "    for i in range(1, n+1):\n",
        "        if n % i == 0:\n",
        "            cont = cont+1\n",
        "\n",
        "    if cont == 2 : return True\n",
        "    else: return False\n",
        "\n",
        "def proximoPrimo(n):\n",
        "    n = n + 1\n",
        "    while True:\n",
        "        if ePrimo(n) : return n\n",
        "        else: n = n + 1\n",
        "\n",
        "x = int(input('Entre com um número: '))\n",
        "print(f\"O primo depois de {x} é {proximoPrimo(x)}\")"
      ]
    },
    {
      "cell_type": "markdown",
      "metadata": {
        "id": "SMMs32Hih5VO"
      },
      "source": [
        "##**Exercício 02 - Triângulos retângulos**\n",
        "\n",
        "Elabore um programa que solicite ao usuário três valores que representarão os lados de um triângulo e verifique se o triângulo é retângulo.\n",
        "\n",
        "*IMPORTANTE:*\n",
        "* Não há ordem para a entrada de valores;\n",
        "* Modularize seu código."
      ]
    },
    {
      "cell_type": "code",
      "execution_count": null,
      "metadata": {
        "id": "LS3gBig41QyB"
      },
      "outputs": [],
      "source": []
    },
    {
      "cell_type": "markdown",
      "metadata": {
        "id": "WxN_qEOmHDGi"
      },
      "source": [
        "##**Exercício 03 - Código de César**##\n",
        "\n",
        "O codigo de César é uma das mais simples e conhecidas técnicas de criptografia. É um tipo de substituição na qual cada letra do texto é substituída por outra, que se apresenta\n",
        "no alfabeto abaixo dela um numero fixo de vezes.\n",
        "\n",
        "Por exemplo, com uma troca de três\n",
        "posições, A seria substituído por D, B se tornaria E, e assim por diante.\n",
        "\n",
        "Implemente um programa que faça uso do Código de César (3 posições), pedindo ao usuário que entre com uma *string* e retorne a string codificada. Exemplo:\n",
        "\n",
        "*String* de entrada: `a ligeira raposa marrom saltou sobre o cachorro cansado`\n",
        "\n",
        "*String* Codificada: `D OLJHLUD UDSRVD PDUURP VDOWRX VREUH R FDFKRUUR FDQVDGR`\n",
        "\n",
        "*IMPORTANTE:* Modularize seu código."
      ]
    },
    {
      "cell_type": "code",
      "execution_count": null,
      "metadata": {
        "id": "mW2vUxpkiV6I"
      },
      "outputs": [],
      "source": [
        "def codifique(letra):\n",
        "    cod = ord(letra)\n",
        "    if cod < ord(\"A\") or (cod > ord(\"Z\") and cod < ord(\"a\")) or cod > ord(\"z\"):\n",
        "        return letra\n",
        "    if cod > 119: # 119 é o código ASCII do \"w\"\n",
        "        return chr(cod+3-26).upper()\n",
        "    else: return chr(cod+3).upper()\n",
        "\n",
        "texto = input(\"Entre com o texto: \")\n",
        "for letra in texto:\n",
        "    print(codifique(letra), end='')"
      ]
    },
    {
      "cell_type": "markdown",
      "metadata": {
        "id": "kTSNZ6RKibmf"
      },
      "source": [
        "##**Exercício 04 - Palíndromos**##\n",
        "\n",
        "Um palíndromo é uma palavra ou sentença que tenha a propriedade de poder ser lida tanto da direita para a esquerda como da esquerda para a direita. Exemplos:\n",
        "\n",
        "`ovo`\n",
        "\n",
        "`arara`\n",
        "\n",
        "`Socorram-me, subi no ônibus em Marrocos.`\n",
        "\n",
        "`Anotaram a data da maratona.`\n",
        "\n",
        "Elabore um programa que, dada uma *string*, diga se ela é um palíndromo ou nao. Modularize seu código.\n",
        "\n"
      ]
    },
    {
      "cell_type": "code",
      "execution_count": null,
      "metadata": {
        "id": "3oedrWboiYY_"
      },
      "outputs": [],
      "source": []
    }
  ],
  "metadata": {
    "colab": {
      "provenance": []
    },
    "kernelspec": {
      "display_name": "Python 3",
      "language": "python",
      "name": "python3"
    },
    "language_info": {
      "codemirror_mode": {
        "name": "ipython",
        "version": 3
      },
      "file_extension": ".py",
      "mimetype": "text/x-python",
      "name": "python",
      "nbconvert_exporter": "python",
      "pygments_lexer": "ipython3",
      "version": "3.10.5"
    },
    "vscode": {
      "interpreter": {
        "hash": "c261aea317cc0286b3b3261fbba9abdec21eaa57589985bb7a274bf54d6cc0a7"
      }
    }
  },
  "nbformat": 4,
  "nbformat_minor": 0
}
