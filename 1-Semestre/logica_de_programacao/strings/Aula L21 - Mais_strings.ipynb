{
  "cells": [
    {
      "cell_type": "markdown",
      "metadata": {
        "id": "eukAJhnq3T1T"
      },
      "source": [
        "#**TTI103 - Lógica de Programação**\n",
        "\n",
        "#**Aula L21 - Mais strings**"
      ]
    },
    {
      "cell_type": "markdown",
      "metadata": {
        "id": "57mESXyENDjL"
      },
      "source": [
        "##**Exercício 01 - Manipulações simples com strings**\n",
        "\n",
        "**a)** Construa um programa em Python que troque todas as ocorrencias de uma letra L1 pela letra L2 em uma *string*. A *string* e as letras L1 e L2 devem ser fornecidas pelo usuario."
      ]
    },
    {
      "cell_type": "code",
      "execution_count": null,
      "metadata": {
        "id": "AOLneMzYNY77"
      },
      "outputs": [],
      "source": [
        "# Exercício 01a\n",
        "texto = input(\"Entre com o texto: \")\n",
        "l1 = input(\"Entre com a letra a substituir: \")\n",
        "l2 = input(\"Entre com a letra substituta: \")\n",
        "#print(texto.replace(l1, l2))\n",
        "for letra in texto:\n",
        "    if letra == l1: print(l2, end='')\n",
        "    else: print(letra, end='')\n"
      ]
    },
    {
      "cell_type": "markdown",
      "metadata": {
        "id": "G-pgO4j7Ndez"
      },
      "source": [
        "**b)** Escreva um programa que leia duas palavras e diga qual deles vem primeiro na ordem\n",
        "alfabetica.\n",
        "\n",
        "*Dica:* `'a'` é menor do que `'b'`."
      ]
    },
    {
      "cell_type": "code",
      "execution_count": null,
      "metadata": {
        "id": "ki54cf-bN67b"
      },
      "outputs": [],
      "source": [
        "# Exercício 01b\n"
      ]
    },
    {
      "cell_type": "markdown",
      "metadata": {
        "id": "_N5TtBNNZkHY"
      },
      "source": [
        "**c)** Escreva um programa que leia vários números reais em uma mesma linha, e imprima a soma."
      ]
    },
    {
      "cell_type": "code",
      "execution_count": null,
      "metadata": {
        "id": "lGwW5F_cZwa_"
      },
      "outputs": [],
      "source": [
        "# Exercício 01c\n"
      ]
    },
    {
      "cell_type": "markdown",
      "metadata": {
        "id": "xZx6J_JQaxVB"
      },
      "source": [
        "**d)** Escreva uma função com protótipo:"
      ]
    },
    {
      "cell_type": "code",
      "execution_count": null,
      "metadata": {
        "id": "rpxniP8acmmp"
      },
      "outputs": [],
      "source": [
        "def insereSeNovo (nome, lista):\n",
        "  ''' (str, list) -> int\n",
        "  Modifica a lista, inserindo nome na lista.\n",
        "  Retorna a posição de nome na lista ou None caso ele já exista.\n",
        "  '''"
      ]
    },
    {
      "cell_type": "markdown",
      "metadata": {
        "id": "cgRU7VIzcp2Z"
      },
      "source": [
        "Essa função devolve a posição em que o *string* `x` ocorre em lista ou, caso `x` não estiver na lista, insere `x` no final da lista e devolve o índice dessa posição. O código a seguir deve ser usado para testar aus função:"
      ]
    },
    {
      "cell_type": "code",
      "execution_count": null,
      "metadata": {
        "id": "Ja2xcw3Yc_ao"
      },
      "outputs": [],
      "source": [
        "# Exercício 01d\n",
        "\n",
        "# Codigo de teste\n",
        "lista = ['Ronaldo', 'Romario', 'Rivelino']\n",
        "pos = insereSeNovo('Romario', lista)\n",
        "pos = insereSeNovo('Pele', lista)\n",
        "pos = insereSeNovo('Rivelino', lista)\n",
        "print(f'{lista}, que deve ser Ronaldo, Romario, Rivelino, Pele.')"
      ]
    },
    {
      "cell_type": "markdown",
      "metadata": {
        "id": "ybjQmQpq8qL3"
      },
      "source": [
        "**e)** Elabore um programa modular que leia o nome do usuário e o imprima na vertical, em forma de escada, usando apenas letras maiúsculas.\n",
        "\n",
        "Exemplo de uso:\n",
        "\n",
        "Nome = Vanessa\n",
        "\n",
        "Resultado gerado pelo programa:\n",
        "\n",
        "V\n",
        "\n",
        "VA\n",
        "\n",
        "VAN\n",
        "\n",
        "VANE\n",
        "\n",
        "VANES\n",
        "\n",
        "VANESS\n",
        "\n",
        "VANESSA"
      ]
    },
    {
      "cell_type": "code",
      "execution_count": null,
      "metadata": {
        "id": "S_oocSDC8rSx"
      },
      "outputs": [],
      "source": [
        "# Exercício 01e"
      ]
    },
    {
      "cell_type": "markdown",
      "metadata": {
        "id": "WaIyvXLa38Xo"
      },
      "source": [
        "##**Exercício 02 – Senha da biblioteca**\n",
        "\n",
        "Uma biblioteca distribui um cartão magnético para que os alunos possam frequentá-la. A senha inicial, enviada pelo correio, é gerada automaticamente a partir da data de nascimento do aluno ('dd/mm/aaaa') do seguinte modo:\n",
        "\n",
        "`mm'$'dd(invertido) + '#' + dd'!'mm(invertido) + '\\'+aaaa`\n",
        "\n",
        "Assim, se a data de nascimento é 25/10/1995, a senha será:\n",
        "\n",
        "`10$52#25!01\\1995`\n",
        "\n",
        "Escreva um programa modular que solicite ao usuário a inserção da data de nascimento no formato dd/mm/aaaa e retorne sua senha de acordo com as regras da biblioteca."
      ]
    },
    {
      "cell_type": "code",
      "execution_count": null,
      "metadata": {
        "id": "T6hD6HtbhvmY"
      },
      "outputs": [],
      "source": [
        "# Exercício 02\n"
      ]
    },
    {
      "cell_type": "markdown",
      "metadata": {
        "id": "SMMs32Hih5VO"
      },
      "source": [
        "##**Exercício 03 - DNA**\n",
        "\n",
        "Construa uma função `DNA_complementar` que recebe uma *string* que representa\n",
        "uma cadeia de DNA e gera a cadeia complementar. A\n",
        "entrada e saída de dados deve ser feita pelo programa principal.\n",
        "\n",
        "Lembrando: O DNA (Ácido Desoxirribonucléico) é composto por milhões de nucleotídeos ligados uns aos outros. Separadamente, os nucleotídeos são bastante simples, consistindo de três partes diferentes:\n",
        "\n",
        "* Base nitrogenada (Adenina (A), Timina (T), Guanina (G) ou Citosina(C));\n",
        "* Desoxirribose (um açúcar por cinco carbonos);\n",
        "* Um grupamento fosfato.\n",
        "\n",
        "As bases nitrogenadas Adenina e Timina são complementares; o mesmo ocorre com Guanina e Citosina.\n",
        "\n",
        "Exemplo de uso:\n",
        "* Entrada: `AATCTGCAC`\n",
        "* Saída: `TTAGACGTG`"
      ]
    },
    {
      "cell_type": "code",
      "execution_count": null,
      "metadata": {
        "id": "wmZLDEF4fBkB"
      },
      "outputs": [],
      "source": [
        "# Exercício 03\n"
      ]
    },
    {
      "cell_type": "markdown",
      "metadata": {
        "id": "war3Lk2g9tQg"
      },
      "source": [
        "##**Exercício 04 - Ordenar títulos**\n",
        "\n",
        "Elabore um programa modular para ordenar uma lista de títulos de livros em ordem alfabética e deixá-los separados por vírgula.\n",
        "\n",
        "A lista de títulos é fornecida como uma *string* chamada “titulos”, onde cada título está em uma nova linha.\n",
        "\n",
        "Segue exemplo de lista:"
      ]
    },
    {
      "cell_type": "code",
      "execution_count": null,
      "metadata": {
        "id": "NZb7GYVO9645"
      },
      "outputs": [],
      "source": [
        "titulos = \"\"\"O Senhor dos Anéis\n",
        "Harry Potter e a Pedra Filosofal\n",
        "1984\n",
        "O Lobo da Estepe\n",
        "Cem Anos de Solidão\n",
        "A Metamorfose\n",
        "A Revolução dos Bichos\n",
        "Crime e Castigo\n",
        "Macunaíma\"\"\""
      ]
    },
    {
      "cell_type": "code",
      "execution_count": null,
      "metadata": {
        "id": "645yoUoO-N1H"
      },
      "outputs": [],
      "source": [
        "# Exercício 04\n"
      ]
    },
    {
      "cell_type": "markdown",
      "metadata": {
        "id": "rJslIK3M--Nr"
      },
      "source": [
        "##**Exercício 05 - Contar palavras**\n",
        "\n",
        "Você trabalha em uma biblioteca e recebeu uma lista de títulos de artigos. Sua tarefa é criar um programa modular que conte quantas vezes uma determinada palavra aparece nos títulos dos artigos.\n",
        "\n",
        "Um exemplo de lista de títulos é visto na célula de código a seguir. Use essa lista para testar seu código, usando como entrada a *string* `'GPT'`."
      ]
    },
    {
      "cell_type": "code",
      "execution_count": null,
      "metadata": {
        "id": "lHfM0-ZY_ID6"
      },
      "outputs": [],
      "source": [
        "artigos = [\n",
        "'RecurrentGPT: Interactive Generation of (Arbitrarily) Long Text',\n",
        "'VideoLLM: Modeling Video Sequence with Large Language Models',\n",
        "'Watermarking Text Data on Large Language Models for Dataset Copyright Protection',\n",
        "'InheritSumm: A General, Versatile and Compact Summarizer by Distilling from GPT',\n",
        "'Can Large Language Models emulate an inductive Thematic Analysis of semi-structured interviews? An exploration and provocation on the limits of the approach and the model',\n",
        "'GPT-SW3: An Autoregressive Language Model for the Nordic Languages',\n",
        "'The Emergence of Economic Rationality of GPT',\n",
        "'Can We Edit Factual Knowledge by In-Context Learning?',\n",
        "'G3Detector: General GPT-Generated Text Detector',\n",
        "'GPT Paternity Test: GPT Generated Text Detection with GPT Genetic Inheritance'\n",
        "]"
      ]
    },
    {
      "cell_type": "code",
      "execution_count": null,
      "metadata": {
        "id": "FDN8S2tD_Jhv"
      },
      "outputs": [],
      "source": [
        "# Exercício 05"
      ]
    }
  ],
  "metadata": {
    "colab": {
      "provenance": []
    },
    "kernelspec": {
      "display_name": "Python 3",
      "language": "python",
      "name": "python3"
    },
    "language_info": {
      "codemirror_mode": {
        "name": "ipython",
        "version": 3
      },
      "file_extension": ".py",
      "mimetype": "text/x-python",
      "name": "python",
      "nbconvert_exporter": "python",
      "pygments_lexer": "ipython3",
      "version": "3.11.0 (main, Oct 24 2022, 18:26:48) [MSC v.1933 64 bit (AMD64)]"
    },
    "vscode": {
      "interpreter": {
        "hash": "c261aea317cc0286b3b3261fbba9abdec21eaa57589985bb7a274bf54d6cc0a7"
      }
    }
  },
  "nbformat": 4,
  "nbformat_minor": 0
}
