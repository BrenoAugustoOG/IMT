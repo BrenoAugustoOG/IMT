{
  "cells": [
    {
      "cell_type": "markdown",
      "metadata": {
        "id": "oNAE5ZPfjt3g"
      },
      "source": [
        "#**TTI103 - Lógica de Programação**\n",
        "\n",
        "#**Aula L13 - Estruturas de Repetição 01**"
      ]
    },
    {
      "cell_type": "markdown",
      "metadata": {
        "id": "kahb9Oa-G6OF"
      },
      "source": [
        "#**Estruturas de repetição no Python**\n",
        "\n",
        "* Estrutura Enquanto-Faça: no Python, é implementada pela instrução `while` e possui a seguinte sintaxe:"
      ]
    },
    {
      "cell_type": "code",
      "execution_count": null,
      "metadata": {
        "id": "ahmYsSzGoYXT"
      },
      "outputs": [],
      "source": [
        "# Estrutura Enquanto-Faça\n",
        "while <condição>:\n",
        "  <comandos a serem repetidos>"
      ]
    },
    {
      "cell_type": "markdown",
      "metadata": {
        "id": "jzFoqxDTqEoM"
      },
      "source": [
        "* Estrutura Para-até-Faça: no Python, é implementada pelo comando `for`. Em algumas linguagens de programação como C e Java, o\n",
        "comando `for` é utilizado em conjunto com uma variável do tipo inteiro (ou outra enumerável), que funciona como um contador que controla a quantidade de vezes que o laço será repetido. No Python, o comando `for` só funciona com tipos de dados que permitem iterações (chamados iteráveis) e o tipo inteiro não possui essa característica. Assim, a sintaxe do comando `for` em Python tem a forma:\n"
      ]
    },
    {
      "cell_type": "code",
      "execution_count": null,
      "metadata": {
        "id": "YobZcwikollk"
      },
      "outputs": [],
      "source": [
        "for <item> in <conjunto de itens>:\n",
        "  <comandos a serem repetidos>"
      ]
    },
    {
      "cell_type": "markdown",
      "metadata": {
        "id": "xAvp_AHNKrMb"
      },
      "source": [
        "#**Laços para percorrer os elementos de uma lista**\n",
        "\n",
        "Para ilustrar as formas mais usuais de percorrer os elementos de uma lista, vamos utilizar a lista que contém os anos de obtenção das cinco conquistas do Brasil em Copas do Mundo de Futebol até o momento (já usada na Aula L9)."
      ]
    },
    {
      "cell_type": "code",
      "execution_count": null,
      "metadata": {
        "id": "njI5JPw1qFe9"
      },
      "outputs": [],
      "source": [
        "anos_conquistas = [1958, 1962, 1970, 1994, 2002]\n",
        "print(anos_conquistas)"
      ]
    },
    {
      "cell_type": "markdown",
      "metadata": {
        "id": "N8LfEuRuqTYT"
      },
      "source": [
        "Como já sabemos, é possível usar uma variável inteira para indicar a posição do elemento na lista. Assim, podemos usar a seguinte construção com a estrutura `while`para percorrer os elementos da lista `anos_conquistas`:"
      ]
    },
    {
      "cell_type": "code",
      "execution_count": null,
      "metadata": {
        "id": "3a6c9vxfqzHk"
      },
      "outputs": [],
      "source": [
        "i = 0\n",
        "while i < len(anos_conquistas):\n",
        "  print(anos_conquistas[i])\n",
        "  i += 1"
      ]
    },
    {
      "cell_type": "markdown",
      "metadata": {
        "id": "Z4yaQTA-rFp8"
      },
      "source": [
        "Na célula acima, observe que a variável `i` recebe o valor zero que corresponde ao primeiro índice e, enquanto o índice for menor que o comprimento da lista (`= len(anos_conquistas)`), o elemento de índice `i` é impresso.\n",
        "\n",
        "Se optarmos por usar a estrutura `for`, podemos usar a sintaxe:"
      ]
    },
    {
      "cell_type": "code",
      "execution_count": null,
      "metadata": {
        "id": "DpV7auuXu4xQ"
      },
      "outputs": [],
      "source": [
        "for i in range(len(anos_conquistas)):\n",
        "  print(anos_conquistas[i])"
      ]
    },
    {
      "cell_type": "markdown",
      "metadata": {
        "id": "jYbkj4wtvCSE"
      },
      "source": [
        "A série retornada pelo comando `range(len(lista))` é um objeto iterável do tipo `range` e os elementos nela contidos serão gerados sob demanda durante o for, evitando o desperdício de memória.\n",
        "\n",
        "Além disso, note que não há a necessidade de:\n",
        "\n",
        "* inicializar o valor da variável de índice `i` (com `while`, foi preciso usar `i = 0` antes da estrutura de repetição);\n",
        "\n",
        "* atualizar o valor da variável de índice `i` (com `while`, foi preciso usar `i += 1` dentro da estrutura de repetição).\n",
        "\n",
        "O Python possui ainda uma segunda sintaxe mais compacta que pode ser empregada para acessar diretamente os elementos de uma lista sem mencionar explicitamente os seus índices."
      ]
    },
    {
      "cell_type": "code",
      "execution_count": null,
      "metadata": {
        "id": "XHyuikVfw-z_"
      },
      "outputs": [],
      "source": [
        "for ano in anos_conquistas:\n",
        "  print(ano)"
      ]
    },
    {
      "cell_type": "markdown",
      "metadata": {
        "id": "OEpCn6S3sLls"
      },
      "source": [
        "#**Exercício 01**\n",
        "\n",
        "Elabore um programa Python que exiba todos os números pares entre zero e um número `N` fornecido pelo usuário.\n",
        "\n",
        "**Requisito:** Certifique-se de que o usuário tenha digitado um número positivo, inteiro ou real. Pense em qual caso engloba o outro!"
      ]
    },
    {
      "cell_type": "code",
      "execution_count": null,
      "metadata": {
        "id": "hzNxMzS3z9cX"
      },
      "outputs": [],
      "source": [
        "# Exercício 01"
      ]
    },
    {
      "cell_type": "markdown",
      "metadata": {
        "id": "KaEOD61l1HCQ"
      },
      "source": [
        "#**Exercício 02**\n",
        "\n",
        "Elabore um programa Python que calcule e exiba o valor da série $S$ a partir de $x$ e $n$ fornecidos pelo usuário:\n",
        "\n",
        "$$S=\\ln x+x+\\frac{x^2}{2}+\\frac{x^3}{3}+\\cdots+\\frac{x^n}{n}$$\n",
        "\n",
        "**Requisitos:**\n",
        "* Uma vez que a série envolve a função $\\ln x$, devems garantir que $x>0$.\n",
        "* $n$ é um inteiro positivo. Assim, ainda que o usuário tenha fornecido um valor real, o programa deve convertê-lo para o tipo inteiro, usando o comando `int()`.\n",
        "* O valor da série deve ser exibido com precisão de três casas decimais.\n",
        "\n"
      ]
    },
    {
      "cell_type": "code",
      "execution_count": null,
      "metadata": {
        "id": "W8GqssGp2vNg"
      },
      "outputs": [],
      "source": [
        "# Exercício 02\n"
      ]
    },
    {
      "cell_type": "markdown",
      "metadata": {
        "id": "o-Jj_zylXNnN"
      },
      "source": [
        "Para ajudar na resolução do próximo exercício, vamos empregar a função `choice` do módulo `random`. Essa função escolhe (pseudo)aleatoriamente um elemento de uma lista à cada execução. Veja um exemplo de uso da função na célula a seguir. Execute-o algumas vezes!"
      ]
    },
    {
      "cell_type": "code",
      "execution_count": null,
      "metadata": {
        "id": "EBQUDoZIX_lf"
      },
      "outputs": [],
      "source": [
        "from random import choice\n",
        "\n",
        "frutas = ['maçã', 'banana', 'cereja']\n",
        "for i in range(10):\n",
        "  print(f'{i+1}a escolha = {choice(frutas)}')"
      ]
    },
    {
      "cell_type": "markdown",
      "metadata": {
        "id": "Aai71pygahp-"
      },
      "source": [
        "Também será útil empregar o método `count` das listas Python. O método retorna o número de ocorrências de determinado elemento em uma lista. Veja o exemplo a seguir."
      ]
    },
    {
      "cell_type": "code",
      "execution_count": null,
      "metadata": {
        "id": "QCIfYUEobC4u"
      },
      "outputs": [],
      "source": [
        "lista_num = [3, 2, 3, 3, -1, 0, 3, 4, 5, 5, 5]\n",
        "print(f'O número 3 aparece na lista_num {lista_num.count(3)} vezes.')\n",
        "print(f'O número 0 aparece na lista_num {lista_num.count(0)} vezes.')\n",
        "print(f'O número 5 aparece na lista_num {lista_num.count(5)} vezes.')"
      ]
    },
    {
      "cell_type": "markdown",
      "metadata": {
        "id": "CtoqrTEm5RNR"
      },
      "source": [
        "#**Exercício 03**\n",
        "\n",
        "Elabore um programa Python para gerenciar uma eleição. Os votos válidos são representados pelos números 1, 2 e 3, cada um correspondendo a um candidato. O voto em branco é representado pelo número 0 e o voto nulo, pelo número –1. O fluxograma deverá processar $N$ respostas da votação, calcular e exibir:\n",
        "\n",
        "**a)** o total de votos para cada candidato;\n",
        "\n",
        "**b)** o total de votos em branco;\n",
        "\n",
        "**c)** o total de votos nulos;\n",
        "\n",
        "**d)** a porcentagem de votos válidos do candidato vencedor.\n",
        "\n",
        "**Requisitos:**\n",
        "* Use uma estrutura de repetição em conjunto com a função `choice` para gerar uma lista com os $N$ votos.\n",
        "* Use o método `count` para totalizar os votos.\n"
      ]
    },
    {
      "cell_type": "code",
      "execution_count": null,
      "metadata": {
        "id": "_Ekm8QpcXKMF"
      },
      "outputs": [],
      "source": [
        "# Exercício 03"
      ]
    },
    {
      "cell_type": "markdown",
      "metadata": {
        "id": "rBgjlHNtk9JU"
      },
      "source": [
        "O próximo exercício vai usar o módulo `Turtle`. Para isso, instale-o executando a célula a seguir."
      ]
    },
    {
      "cell_type": "code",
      "execution_count": null,
      "metadata": {
        "id": "nj0iBrwLlD5d"
      },
      "outputs": [],
      "source": [
        "!pip install ColabTurtlePlus\n",
        "from ColabTurtlePlus.Turtle import *"
      ]
    },
    {
      "cell_type": "markdown",
      "metadata": {
        "id": "n7c-z0Fokg2F"
      },
      "source": [
        "#**Exercício 04**\n",
        "\n",
        "Elabore um programa Python que faça com que Leonardo, Michelangelo, Donatelo e Rafael disputem um corrida! No início, as tartarugas devem se posicionar no extremo esquerdo da tela e então percorrer distâncias sorteadas aleatoriamente entre os inteiros 1 e 10. A tartaruga que chegar primeiro atingie o extremo direito da janela vence! Nesse instante, o programa deve encerrar os sorteios."
      ]
    },
    {
      "cell_type": "code",
      "execution_count": null,
      "metadata": {
        "id": "-qbkHq-NmOB0"
      },
      "outputs": [
        {
          "ename": "",
          "evalue": "",
          "output_type": "error",
          "traceback": [
            "\u001b[1;31mThe Kernel crashed while executing code in the current cell or a previous cell. \n",
            "\u001b[1;31mPlease review the code in the cell(s) to identify a possible cause of the failure. \n",
            "\u001b[1;31mClick <a href='https://aka.ms/vscodeJupyterKernelCrash'>here</a> for more info. \n",
            "\u001b[1;31mView Jupyter <a href='command:jupyter.viewOutput'>log</a> for further details."
          ]
        }
      ],
      "source": [
        "# Exercício 04\n",
        "import turtle\n",
        "import random\n",
        "\n",
        "# Configuração da janela\n",
        "win = turtle.Screen()\n",
        "win.title(\"Corrida das Tartarugas\")\n",
        "win.bgcolor(\"black\")\n",
        "win.setup(width=800, height=600)\n",
        "\n",
        "# Lista de tartarugas\n",
        "tartarugas = [\"Leonardo\", \"Michelangelo\", \"Donatello\", \"Rafael\"]\n",
        "cores = [\"blue\", \"orange\", \"purple\", \"red\"]\n",
        "tartaruga_objects = []\n",
        "\n",
        "# Inicialização das tartarugas\n",
        "for i in range(len(tartarugas)):\n",
        "    tartaruga = turtle.Turtle()\n",
        "    tartaruga.speed(3)\n",
        "    tartaruga.shape(\"turtle\")\n",
        "    tartaruga.color(cores[i])\n",
        "    tartaruga.penup()\n",
        "    tartaruga.goto(-380, 150 - i * 100)\n",
        "    tartaruga_objects.append(tartaruga)\n",
        "\n",
        "# Corrida\n",
        "vencedor = None\n",
        "while not vencedor:\n",
        "    for tartaruga in tartaruga_objects:\n",
        "        distancia = random.randint(1, 10)\n",
        "        tartaruga.forward(distancia)\n",
        "        if tartaruga.xcor() >= 380:\n",
        "            vencedor = tartarugas[tartaruga_objects.index(tartaruga)]\n",
        "            break\n",
        "\n",
        "# Exibição do vencedor\n",
        "mensagem = f\"{vencedor} venceu porraaaaa!\"\n",
        "tela_vencedor = turtle.Turtle()\n",
        "tela_vencedor.speed(0)\n",
        "tela_vencedor.color(\"white\")\n",
        "tela_vencedor.penup()\n",
        "tela_vencedor.hideturtle()\n",
        "tela_vencedor.goto(0, 0)\n",
        "tela_vencedor.write(mensagem, align=\"center\", font=(\"Courier\", 24, \"normal\"))\n",
        "\n",
        "# Fechar a janela ao clicar\n",
        "win.exitonclick()"
      ]
    }
  ],
  "metadata": {
    "colab": {
      "provenance": []
    },
    "kernelspec": {
      "display_name": "Python 3",
      "name": "python3"
    },
    "language_info": {
      "codemirror_mode": {
        "name": "ipython",
        "version": 3
      },
      "file_extension": ".py",
      "mimetype": "text/x-python",
      "name": "python",
      "nbconvert_exporter": "python",
      "pygments_lexer": "ipython3",
      "version": "3.12.2"
    }
  },
  "nbformat": 4,
  "nbformat_minor": 0
}
